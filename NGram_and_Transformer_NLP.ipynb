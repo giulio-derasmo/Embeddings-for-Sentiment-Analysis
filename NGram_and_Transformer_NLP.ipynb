{
  "cells": [
    {
      "cell_type": "markdown",
      "metadata": {
        "id": "vtqmMBBFM5VB"
      },
      "source": [
        "\n",
        "# DMT 2022 - Homework 3"
      ]
    },
    {
      "cell_type": "markdown",
      "source": [
        "# Homework\n",
        "In this homework, your goal will be to obtain the best classification on the provided dataset according to a metric specified in each section.\n",
        "\n",
        "Ensure that the results you obtain can be accurately replicated by anyone running the notebook.\n",
        "\n",
        "If you have to set a random seed, always choose: `2468`."
      ],
      "metadata": {
        "id": "3ltMqfS1ph7q"
      }
    },
    {
      "cell_type": "markdown",
      "source": [
        "## Group composition:"
      ],
      "metadata": {
        "id": "ZdyeR5JdyCki"
      }
    },
    {
      "cell_type": "markdown",
      "source": [
        "\n",
        "D'Erasmo, Giulio, 1859130\n",
        "\n",
        "Potì, Andrea, 2008416\n"
      ],
      "metadata": {
        "id": "g3zOpW7YyMlr"
      }
    },
    {
      "cell_type": "markdown",
      "metadata": {
        "id": "KCoIbBZcrYRH"
      },
      "source": [
        "# Part 1: Text classification \n",
        "In this part of the homework, simple data encodings will be used."
      ]
    },
    {
      "cell_type": "markdown",
      "metadata": {
        "id": "IxkmPDaWrYRM"
      },
      "source": [
        "## Part 1.0\n",
        "Import **ALL** the Python packages that you need for Part 1."
      ]
    },
    {
      "cell_type": "code",
      "execution_count": null,
      "metadata": {
        "id": "GTVP9OLGrYRN"
      },
      "outputs": [],
      "source": [
        "#REMOVE_OUTPUT#\n",
        "#YOUR CODE STARTS HERE#\n",
        "import pandas as pd; import numpy as np; import nltk; import matplotlib.pyplot as plt \n",
        "import time; import sklearn; from sklearn.pipeline import Pipeline; import sklearn.metrics\n",
        "from sklearn.feature_extraction.text import TfidfVectorizer; import string \n",
        "from sklearn.model_selection import train_test_split, GridSearchCV,  RandomizedSearchCV \n",
        "from sklearn.naive_bayes import MultinomialNB ; from sklearn.neighbors import KNeighborsClassifier \n",
        "from sklearn.decomposition import PCA; from sklearn.preprocessing import StandardScaler \n",
        "#YOUR CODE ENDS HERE#\n",
        "#THIS IS LINE 10#"
      ]
    },
    {
      "cell_type": "markdown",
      "metadata": {
        "id": "WzUBPiM89oU_"
      },
      "source": [
        "### 1.0.1\n",
        "Download the dataset from the Drive link (code already provided).\n",
        "\n",
        "The dataset is a list of reviews, containing the text and the sentiment of the review; 1 represents a positive review, while 0 represents a negative review. The file has no header."
      ]
    },
    {
      "cell_type": "code",
      "source": [
        "#REMOVE_OUTPUT#\n",
        "!pip install --upgrade --no-cache-dir gdown"
      ],
      "metadata": {
        "id": "CLJJe07B9oVG",
        "colab": {
          "base_uri": "https://localhost:8080/"
        },
        "outputId": "3c270a5b-09ca-4b75-f4ce-900b74c6d9e1"
      },
      "execution_count": null,
      "outputs": [
        {
          "output_type": "stream",
          "name": "stdout",
          "text": [
            "Looking in indexes: https://pypi.org/simple, https://us-python.pkg.dev/colab-wheels/public/simple/\n",
            "Requirement already satisfied: gdown in /usr/local/lib/python3.7/dist-packages (4.4.0)\n",
            "Requirement already satisfied: filelock in /usr/local/lib/python3.7/dist-packages (from gdown) (3.7.1)\n",
            "Requirement already satisfied: requests[socks] in /usr/local/lib/python3.7/dist-packages (from gdown) (2.23.0)\n",
            "Requirement already satisfied: tqdm in /usr/local/lib/python3.7/dist-packages (from gdown) (4.64.0)\n",
            "Requirement already satisfied: six in /usr/local/lib/python3.7/dist-packages (from gdown) (1.15.0)\n",
            "Requirement already satisfied: beautifulsoup4 in /usr/local/lib/python3.7/dist-packages (from gdown) (4.6.3)\n",
            "Requirement already satisfied: certifi>=2017.4.17 in /usr/local/lib/python3.7/dist-packages (from requests[socks]->gdown) (2022.5.18.1)\n",
            "Requirement already satisfied: urllib3!=1.25.0,!=1.25.1,<1.26,>=1.21.1 in /usr/local/lib/python3.7/dist-packages (from requests[socks]->gdown) (1.24.3)\n",
            "Requirement already satisfied: chardet<4,>=3.0.2 in /usr/local/lib/python3.7/dist-packages (from requests[socks]->gdown) (3.0.4)\n",
            "Requirement already satisfied: idna<3,>=2.5 in /usr/local/lib/python3.7/dist-packages (from requests[socks]->gdown) (2.10)\n",
            "Requirement already satisfied: PySocks!=1.5.7,>=1.5.6 in /usr/local/lib/python3.7/dist-packages (from requests[socks]->gdown) (1.7.1)\n"
          ]
        }
      ]
    },
    {
      "cell_type": "code",
      "execution_count": null,
      "metadata": {
        "id": "gJzDvlX59oVI",
        "colab": {
          "base_uri": "https://localhost:8080/"
        },
        "outputId": "61f61b06-3a52-4d5a-8db9-e08a02c0e94c"
      },
      "outputs": [
        {
          "output_type": "stream",
          "name": "stdout",
          "text": [
            "Downloading...\n",
            "From: https://drive.google.com/uc?id=1oDvIo7sMAlxdF82uMXkYEmoeV7P4evcs\n",
            "To: /content/hw3_data.csv\n",
            "100% 10.7M/10.7M [00:00<00:00, 30.3MB/s]\n"
          ]
        }
      ],
      "source": [
        "#REMOVE_OUTPUT#\n",
        "!gdown 1oDvIo7sMAlxdF82uMXkYEmoeV7P4evcs #download hw3_data.csv"
      ]
    },
    {
      "cell_type": "markdown",
      "metadata": {
        "id": "qyULCTYnrYRO"
      },
      "source": [
        "## Part 1.1\n",
        "In this part, we will perform a tf-idf encoding of the data,\n",
        "and then train a classifier, optimising its hyper-parameters.\n",
        "\n",
        "In the various steps, we will slowly prepare a pipeline to perform a hyper-parameter optimisation; try to prepare the required objects with this target in mind.\n",
        "\n",
        "The goal is to maximise the f1-score on the test set that will be defined in step 1.1.2."
      ]
    },
    {
      "cell_type": "markdown",
      "metadata": {
        "id": "Lr71odinrYRQ"
      },
      "source": [
        "### 1.1.1\n",
        "Load and inspect the dataset: print the total number of rows.\n",
        "\n",
        "Print also the first 3 rows of the dataset."
      ]
    },
    {
      "cell_type": "code",
      "execution_count": null,
      "metadata": {
        "id": "2nQMJWxYrYRQ",
        "colab": {
          "base_uri": "https://localhost:8080/",
          "height": 292
        },
        "outputId": "d5affda9-6d26-4c51-a7d4-c1149b67a666"
      },
      "outputs": [
        {
          "output_type": "stream",
          "name": "stdout",
          "text": [
            "The total number of rows are:  21956\n",
            "\n",
            "The first 3 rows of the dataset are:\n"
          ]
        },
        {
          "output_type": "display_data",
          "data": {
            "text/plain": [
              "                                                                                                                                                                                                                                                                                                                                                                                     0  \\\n",
              "0  When I first had this tea, the taste was familar, as was the sensation that I couldn't immediately tell if I loved or hated it.  What it reminded me of was those hard red candies called \"fireballs.\"  It is a very strong and spicey tea.  I am now buying it in multiple packs of 50 which I keep in the freezer for freshness, so I guess you could say that I made up my mind.   \n",
              "1                                                                There was no size information included in Amazon's description, so I went looking for it.\\n\\n*  Measures 191\" x 48\" x 46\" h., constructed of 2\" steel tubing, two large plated \"S\" hooks\\n* Fits up to 14 ft. hammocks (hammock not included)\\n* Easy to set-up\\n* Assembly / information sheet\\n* Weighs 56 1/2 lbs.   \n",
              "2                                                                                                                                                                         This one is just as bright as the AA Mini MagLite and is considerably thinner and lighter. Extremely durable. I've had one for several years now and it's taken quite a beating in the car and in my toolbox   \n",
              "\n",
              "   1  \n",
              "0  1  \n",
              "1  1  \n",
              "2  1  "
            ],
            "text/html": [
              "\n",
              "  <div id=\"df-cb6e7449-b111-4399-869b-01cc4ba741c4\">\n",
              "    <div class=\"colab-df-container\">\n",
              "      <div>\n",
              "<style scoped>\n",
              "    .dataframe tbody tr th:only-of-type {\n",
              "        vertical-align: middle;\n",
              "    }\n",
              "\n",
              "    .dataframe tbody tr th {\n",
              "        vertical-align: top;\n",
              "    }\n",
              "\n",
              "    .dataframe thead th {\n",
              "        text-align: right;\n",
              "    }\n",
              "</style>\n",
              "<table border=\"1\" class=\"dataframe\">\n",
              "  <thead>\n",
              "    <tr style=\"text-align: right;\">\n",
              "      <th></th>\n",
              "      <th>0</th>\n",
              "      <th>1</th>\n",
              "    </tr>\n",
              "  </thead>\n",
              "  <tbody>\n",
              "    <tr>\n",
              "      <th>0</th>\n",
              "      <td>When I first had this tea, the taste was familar, as was the sensation that I couldn't immediately tell if I loved or hated it.  What it reminded me of was those hard red candies called \"fireballs.\"  It is a very strong and spicey tea.  I am now buying it in multiple packs of 50 which I keep in the freezer for freshness, so I guess you could say that I made up my mind.</td>\n",
              "      <td>1</td>\n",
              "    </tr>\n",
              "    <tr>\n",
              "      <th>1</th>\n",
              "      <td>There was no size information included in Amazon's description, so I went looking for it.\\n\\n*  Measures 191\" x 48\" x 46\" h., constructed of 2\" steel tubing, two large plated \"S\" hooks\\n* Fits up to 14 ft. hammocks (hammock not included)\\n* Easy to set-up\\n* Assembly / information sheet\\n* Weighs 56 1/2 lbs.</td>\n",
              "      <td>1</td>\n",
              "    </tr>\n",
              "    <tr>\n",
              "      <th>2</th>\n",
              "      <td>This one is just as bright as the AA Mini MagLite and is considerably thinner and lighter. Extremely durable. I've had one for several years now and it's taken quite a beating in the car and in my toolbox</td>\n",
              "      <td>1</td>\n",
              "    </tr>\n",
              "  </tbody>\n",
              "</table>\n",
              "</div>\n",
              "      <button class=\"colab-df-convert\" onclick=\"convertToInteractive('df-cb6e7449-b111-4399-869b-01cc4ba741c4')\"\n",
              "              title=\"Convert this dataframe to an interactive table.\"\n",
              "              style=\"display:none;\">\n",
              "        \n",
              "  <svg xmlns=\"http://www.w3.org/2000/svg\" height=\"24px\"viewBox=\"0 0 24 24\"\n",
              "       width=\"24px\">\n",
              "    <path d=\"M0 0h24v24H0V0z\" fill=\"none\"/>\n",
              "    <path d=\"M18.56 5.44l.94 2.06.94-2.06 2.06-.94-2.06-.94-.94-2.06-.94 2.06-2.06.94zm-11 1L8.5 8.5l.94-2.06 2.06-.94-2.06-.94L8.5 2.5l-.94 2.06-2.06.94zm10 10l.94 2.06.94-2.06 2.06-.94-2.06-.94-.94-2.06-.94 2.06-2.06.94z\"/><path d=\"M17.41 7.96l-1.37-1.37c-.4-.4-.92-.59-1.43-.59-.52 0-1.04.2-1.43.59L10.3 9.45l-7.72 7.72c-.78.78-.78 2.05 0 2.83L4 21.41c.39.39.9.59 1.41.59.51 0 1.02-.2 1.41-.59l7.78-7.78 2.81-2.81c.8-.78.8-2.07 0-2.86zM5.41 20L4 18.59l7.72-7.72 1.47 1.35L5.41 20z\"/>\n",
              "  </svg>\n",
              "      </button>\n",
              "      \n",
              "  <style>\n",
              "    .colab-df-container {\n",
              "      display:flex;\n",
              "      flex-wrap:wrap;\n",
              "      gap: 12px;\n",
              "    }\n",
              "\n",
              "    .colab-df-convert {\n",
              "      background-color: #E8F0FE;\n",
              "      border: none;\n",
              "      border-radius: 50%;\n",
              "      cursor: pointer;\n",
              "      display: none;\n",
              "      fill: #1967D2;\n",
              "      height: 32px;\n",
              "      padding: 0 0 0 0;\n",
              "      width: 32px;\n",
              "    }\n",
              "\n",
              "    .colab-df-convert:hover {\n",
              "      background-color: #E2EBFA;\n",
              "      box-shadow: 0px 1px 2px rgba(60, 64, 67, 0.3), 0px 1px 3px 1px rgba(60, 64, 67, 0.15);\n",
              "      fill: #174EA6;\n",
              "    }\n",
              "\n",
              "    [theme=dark] .colab-df-convert {\n",
              "      background-color: #3B4455;\n",
              "      fill: #D2E3FC;\n",
              "    }\n",
              "\n",
              "    [theme=dark] .colab-df-convert:hover {\n",
              "      background-color: #434B5C;\n",
              "      box-shadow: 0px 1px 3px 1px rgba(0, 0, 0, 0.15);\n",
              "      filter: drop-shadow(0px 1px 2px rgba(0, 0, 0, 0.3));\n",
              "      fill: #FFFFFF;\n",
              "    }\n",
              "  </style>\n",
              "\n",
              "      <script>\n",
              "        const buttonEl =\n",
              "          document.querySelector('#df-cb6e7449-b111-4399-869b-01cc4ba741c4 button.colab-df-convert');\n",
              "        buttonEl.style.display =\n",
              "          google.colab.kernel.accessAllowed ? 'block' : 'none';\n",
              "\n",
              "        async function convertToInteractive(key) {\n",
              "          const element = document.querySelector('#df-cb6e7449-b111-4399-869b-01cc4ba741c4');\n",
              "          const dataTable =\n",
              "            await google.colab.kernel.invokeFunction('convertToInteractive',\n",
              "                                                     [key], {});\n",
              "          if (!dataTable) return;\n",
              "\n",
              "          const docLinkHtml = 'Like what you see? Visit the ' +\n",
              "            '<a target=\"_blank\" href=https://colab.research.google.com/notebooks/data_table.ipynb>data table notebook</a>'\n",
              "            + ' to learn more about interactive tables.';\n",
              "          element.innerHTML = '';\n",
              "          dataTable['output_type'] = 'display_data';\n",
              "          await google.colab.output.renderOutput(dataTable, element);\n",
              "          const docLink = document.createElement('div');\n",
              "          docLink.innerHTML = docLinkHtml;\n",
              "          element.appendChild(docLink);\n",
              "        }\n",
              "      </script>\n",
              "    </div>\n",
              "  </div>\n",
              "  "
            ]
          },
          "metadata": {}
        }
      ],
      "source": [
        "#YOUR CODE STARTS HERE#\n",
        "data = pd.read_csv('/content/hw3_data.csv', header = None)\n",
        "\n",
        "# there is a NA value inside the dataset\n",
        "data = data.dropna(axis = 0)\n",
        "# We also decide to drop duplicate row, due to it may bias the text classification \n",
        "data = data.drop_duplicates()\n",
        "\n",
        "# option to see all the review in full length\n",
        "# understanding how the text is composed of\n",
        "pd.set_option('display.max_colwidth', None)\n",
        "\n",
        "# print the total number of rows\n",
        "print(\"The total number of rows are: \", data.shape[0])\n",
        "# print the first 3 rows of the dataset\n",
        "print(\"\\nThe first 3 rows of the dataset are:\")\n",
        "display(data[:3])\n",
        "\n",
        "\n",
        "#YOUR CODE ENDS HERE#\n",
        "#THIS IS LINE 20#"
      ]
    },
    {
      "cell_type": "markdown",
      "metadata": {
        "id": "S3F_8xyFrYRR"
      },
      "source": [
        "### 1.1.2\n",
        "Divide the dataset into training set (85%) and test set (15%).\n",
        "\n",
        "Print out the percentage of samples with positive labels in the training set and the percentage of samples with positive labels in the test set."
      ]
    },
    {
      "cell_type": "code",
      "execution_count": null,
      "metadata": {
        "id": "NZGG5YKHrYRR",
        "colab": {
          "base_uri": "https://localhost:8080/"
        },
        "outputId": "72a8964c-00db-408e-9081-0109df8e95ab"
      },
      "outputs": [
        {
          "output_type": "stream",
          "name": "stdout",
          "text": [
            "Training Set Percentage of positive labels: 51.859%\n",
            "Test Set Percentage of positive labels: 51.913%\n"
          ]
        }
      ],
      "source": [
        "#YOUR CODE STARTS HERE#\n",
        "## Split the data in text and label\n",
        "x = data[0].to_numpy()\n",
        "y = data[1].to_numpy()\n",
        "\n",
        "# Divide Train and Test data\n",
        "train_x, test_x, train_y, test_y = train_test_split(x, y, test_size=0.15,\n",
        "                                    shuffle=True, random_state = 2468)\n",
        "\n",
        "# print the percentage of samples with positive labels\n",
        "# in the training set (since the positive review are labeled as 1\n",
        "# we can just use the mean):\n",
        "training_positive_perc = np.mean(train_y)*100\n",
        "test_positive_perc = np.mean(test_y)*100\n",
        "print(f\"Training Set Percentage of positive labels: {np.round(training_positive_perc, 3)}%\")\n",
        "print(f\"Test Set Percentage of positive labels: {np.round(test_positive_perc,3)}%\")\n",
        "\n",
        "\n",
        "#YOUR CODE ENDS HERE#\n",
        "#THIS IS LINE 20#"
      ]
    },
    {
      "cell_type": "markdown",
      "metadata": {
        "id": "rhHUtozr2KFd"
      },
      "source": [
        "### 1.1.3\n",
        "Create an object that performs a tf-idf transformation on the data. The transformation must strip accents.\n",
        "\n",
        "Create a dictionary containing configurations for the tf-idf vectorizer.\n",
        "The configurations must vary at least 3 different parameters."
      ]
    },
    {
      "cell_type": "code",
      "execution_count": null,
      "metadata": {
        "id": "jEHYs6Ox2KFj",
        "colab": {
          "base_uri": "https://localhost:8080/"
        },
        "outputId": "eb7efd1c-66be-432a-f83f-719abc22a4d1"
      },
      "outputs": [
        {
          "output_type": "stream",
          "name": "stderr",
          "text": [
            "[nltk_data] Downloading package punkt to /root/nltk_data...\n",
            "[nltk_data]   Unzipping tokenizers/punkt.zip.\n",
            "[nltk_data] Downloading package stopwords to /root/nltk_data...\n",
            "[nltk_data]   Unzipping corpora/stopwords.zip.\n"
          ]
        }
      ],
      "source": [
        "#YOUR CODE STARTS HERE#\n",
        "## Vectorization object\n",
        "vectorizer = TfidfVectorizer(strip_accents = \"ascii\", preprocessor = None)\n",
        "## Stemmer function\n",
        "nltk.download('punkt'); nltk.download('stopwords'); \n",
        "stemmer = nltk.stem.snowball.EnglishStemmer(); english_stopwords = set(nltk.corpus.stopwords.words('english'))\n",
        "def stemming_tokenizer(text):\n",
        "\tstemmed_text = [stemmer.stem(word) for word in nltk.word_tokenize(text, language='english')]\n",
        "\treturn stemmed_text\n",
        "def stemming_stop_tokenizer(text):\n",
        "\tstemmed_text = [stemmer.stem(word) for word in nltk.word_tokenize(text, language='english')\n",
        "\t                \t\t\t\t\t\t\t\t\t\tif word not in english_stopwords]\n",
        "\treturn stemmed_text\n",
        "\n",
        "## parameter for the TfidfVectorizer\n",
        "vect_parameters = {'vect__tokenizer': [None, stemming_tokenizer, stemming_stop_tokenizer],\n",
        "                   'vect__ngram_range': [(1, 1), (1, 2), (1, 3)],\n",
        "                   'vect__min_df': [0.0, 0.15, 0.3]}\n",
        "#YOUR CODE ENDS HERE#\n",
        "#THIS IS LINE 20#"
      ]
    },
    {
      "cell_type": "markdown",
      "metadata": {
        "id": "ExTNrAB0rYRR"
      },
      "source": [
        "### 1.1.4\n",
        "Choose a maximum of 2 classification algorithms (from those seen during the course) and prepare objects containing them.\n",
        "\n",
        "For each of the selected classification algorithms, prepare a hyper-parameter configuration with exactly **5 values** for **EACH parameter**.\n",
        "\n",
        "> **If a parameter is itself composed of several parameters (if it is a dictionary, for example), each of these will need to have 5 values.*"
      ]
    },
    {
      "cell_type": "code",
      "execution_count": null,
      "metadata": {
        "id": "Vqb_1UZwrYRS"
      },
      "outputs": [],
      "source": [
        "#YOUR CODE STARTS HERE#\n",
        "\n",
        "# FIRST CLASSIFIER: KNN ------\n",
        "KNN_clf = KNeighborsClassifier()\n",
        "\n",
        "KNN_parameters = {'clf__n_neighbors': [3, 5, 9, 15, 20],\n",
        "                  'clf__n_jobs': [-1]}\n",
        "\n",
        "# SECOND CLASSIFIER: NAIVE BAYES ----\n",
        "NB_clf = MultinomialNB()\n",
        "\n",
        "NB_parameters = {'clf__alpha': [0.01, 0.1, 1., 15., 30.]}\n",
        "\n",
        "\n",
        "\n",
        "\n",
        "\n",
        "\n",
        "\n",
        "\n",
        "\n",
        "\n",
        "\n",
        "\n",
        "\n",
        "\n",
        "\n",
        "\n",
        "#YOUR CODE ENDS HERE#\n",
        "#THIS IS LINE 30#"
      ]
    },
    {
      "cell_type": "markdown",
      "metadata": {
        "id": "lDMyeP1hrYRS"
      },
      "source": [
        "### 1.1.5\n",
        "For each of the classification algorithms selected in step 1.1.4,\n",
        "perform a 3-fold Cross-Validation on the training set, combining the configurations of the vectorizer defined in step 1.1.3 and those of the classifier being used defined in step 1.1.4.\n",
        "\n",
        "Perform the best hyper-parameter optimisation you can afford in **LESS than 30 minutes**. Print out the total time taken.\n",
        "\n",
        "If you are using two classifications algorithms, the maximum total optimisation time is **INSTEAD** 60 minutes."
      ]
    },
    {
      "cell_type": "code",
      "execution_count": null,
      "metadata": {
        "id": "FF4p5lEHrYRT",
        "colab": {
          "base_uri": "https://localhost:8080/"
        },
        "outputId": "38b8e563-58c3-43f3-aea3-077d1a5ae3dd"
      },
      "outputs": [
        {
          "output_type": "stream",
          "name": "stdout",
          "text": [
            "Fitting 3 folds for each of 20 candidates, totalling 60 fits\n",
            "Fitting 3 folds for each of 20 candidates, totalling 60 fits\n",
            "--- Total time: 51.0:58.484092712402344 min ---\n"
          ]
        }
      ],
      "source": [
        "#YOUR CODE STARTS HERE#\n",
        "all_grid_search = {}\n",
        "\n",
        "def automated_random_grid_search(clf, vect_parameters, clf_parameters):\n",
        "  # define pipeline: vectorizer -> classifier\n",
        "  pipeline = sklearn.pipeline.Pipeline([\n",
        "\t('vect', vectorizer),\n",
        "\t('clf', clf),\n",
        "\t])\n",
        "  # parameters dictionary for the complete pipeline\n",
        "  parameters = {**vect_parameters, **clf_parameters}\n",
        "  # 52 min\n",
        "  grid_search = RandomizedSearchCV( pipeline, parameters,\n",
        "                                    scoring = \"f1\",\n",
        "                                    cv = 3, verbose = 1, \n",
        "                                    random_state = 2468, \n",
        "                                    n_iter = 20, \n",
        "                                   )\n",
        "  # start the search\n",
        "  grid_search.fit(train_x, train_y)\n",
        "  return grid_search\n",
        "\n",
        "start_time = time.time()\n",
        "all_grid_search[\"KNN\"] = automated_random_grid_search(KNN_clf, vect_parameters, KNN_parameters)\n",
        "all_grid_search[\"NB\"] = automated_random_grid_search(NB_clf, vect_parameters, NB_parameters)\n",
        "\n",
        "\n",
        "end_time = time.time()\n",
        "\n",
        "minutes, seconds = divmod(end_time - start_time, 60)\n",
        "print(f\"--- Total time: {minutes}:{seconds} min ---\")\n",
        "\n",
        "\n",
        "\n",
        "\n",
        "\n",
        "\n",
        "\n",
        "#YOUR CODE ENDS HERE#\n",
        "#THIS IS LINE 40#"
      ]
    },
    {
      "cell_type": "markdown",
      "metadata": {
        "id": "DcxLpyBq-ygQ"
      },
      "source": [
        "### 1.1.6\n",
        "For each of the optimisations run in step 1.1.5:\n",
        "  1. Select the 3 best configurations and print them.\n",
        "  2. Produce a plot with mean and standard deviation of the f1-score calculated on the test set."
      ]
    },
    {
      "cell_type": "code",
      "execution_count": null,
      "metadata": {
        "id": "1cj7Gn9O-ygg",
        "colab": {
          "base_uri": "https://localhost:8080/",
          "height": 797
        },
        "outputId": "1f3e22ad-76c5-4a8a-e0c4-894c8ba4ca43"
      },
      "outputs": [
        {
          "output_type": "stream",
          "name": "stdout",
          "text": [
            "The top 3 configuration for KNN is:\n",
            "\n"
          ]
        },
        {
          "output_type": "display_data",
          "data": {
            "text/plain": [
              "                                   vect__tokenizer vect__ngram_range  \\\n",
              "0  <function stemming_tokenizer at 0x7f2adf2843b0>            (1, 3)   \n",
              "1                                             None            (1, 1)   \n",
              "2  <function stemming_tokenizer at 0x7f2adf2843b0>            (1, 3)   \n",
              "\n",
              "   vect__min_df  clf__n_neighbors  clf__n_jobs  mean_test_score  \n",
              "0           0.0                 9           -1         0.771969  \n",
              "1           0.0                20           -1         0.740050  \n",
              "2           0.0                 3           -1         0.729970  "
            ],
            "text/html": [
              "\n",
              "  <div id=\"df-cc325cb0-3d2f-48d0-b4fd-4a6a4de79e8b\">\n",
              "    <div class=\"colab-df-container\">\n",
              "      <div>\n",
              "<style scoped>\n",
              "    .dataframe tbody tr th:only-of-type {\n",
              "        vertical-align: middle;\n",
              "    }\n",
              "\n",
              "    .dataframe tbody tr th {\n",
              "        vertical-align: top;\n",
              "    }\n",
              "\n",
              "    .dataframe thead th {\n",
              "        text-align: right;\n",
              "    }\n",
              "</style>\n",
              "<table border=\"1\" class=\"dataframe\">\n",
              "  <thead>\n",
              "    <tr style=\"text-align: right;\">\n",
              "      <th></th>\n",
              "      <th>vect__tokenizer</th>\n",
              "      <th>vect__ngram_range</th>\n",
              "      <th>vect__min_df</th>\n",
              "      <th>clf__n_neighbors</th>\n",
              "      <th>clf__n_jobs</th>\n",
              "      <th>mean_test_score</th>\n",
              "    </tr>\n",
              "  </thead>\n",
              "  <tbody>\n",
              "    <tr>\n",
              "      <th>0</th>\n",
              "      <td>&lt;function stemming_tokenizer at 0x7f2adf2843b0&gt;</td>\n",
              "      <td>(1, 3)</td>\n",
              "      <td>0.0</td>\n",
              "      <td>9</td>\n",
              "      <td>-1</td>\n",
              "      <td>0.771969</td>\n",
              "    </tr>\n",
              "    <tr>\n",
              "      <th>1</th>\n",
              "      <td>None</td>\n",
              "      <td>(1, 1)</td>\n",
              "      <td>0.0</td>\n",
              "      <td>20</td>\n",
              "      <td>-1</td>\n",
              "      <td>0.740050</td>\n",
              "    </tr>\n",
              "    <tr>\n",
              "      <th>2</th>\n",
              "      <td>&lt;function stemming_tokenizer at 0x7f2adf2843b0&gt;</td>\n",
              "      <td>(1, 3)</td>\n",
              "      <td>0.0</td>\n",
              "      <td>3</td>\n",
              "      <td>-1</td>\n",
              "      <td>0.729970</td>\n",
              "    </tr>\n",
              "  </tbody>\n",
              "</table>\n",
              "</div>\n",
              "      <button class=\"colab-df-convert\" onclick=\"convertToInteractive('df-cc325cb0-3d2f-48d0-b4fd-4a6a4de79e8b')\"\n",
              "              title=\"Convert this dataframe to an interactive table.\"\n",
              "              style=\"display:none;\">\n",
              "        \n",
              "  <svg xmlns=\"http://www.w3.org/2000/svg\" height=\"24px\"viewBox=\"0 0 24 24\"\n",
              "       width=\"24px\">\n",
              "    <path d=\"M0 0h24v24H0V0z\" fill=\"none\"/>\n",
              "    <path d=\"M18.56 5.44l.94 2.06.94-2.06 2.06-.94-2.06-.94-.94-2.06-.94 2.06-2.06.94zm-11 1L8.5 8.5l.94-2.06 2.06-.94-2.06-.94L8.5 2.5l-.94 2.06-2.06.94zm10 10l.94 2.06.94-2.06 2.06-.94-2.06-.94-.94-2.06-.94 2.06-2.06.94z\"/><path d=\"M17.41 7.96l-1.37-1.37c-.4-.4-.92-.59-1.43-.59-.52 0-1.04.2-1.43.59L10.3 9.45l-7.72 7.72c-.78.78-.78 2.05 0 2.83L4 21.41c.39.39.9.59 1.41.59.51 0 1.02-.2 1.41-.59l7.78-7.78 2.81-2.81c.8-.78.8-2.07 0-2.86zM5.41 20L4 18.59l7.72-7.72 1.47 1.35L5.41 20z\"/>\n",
              "  </svg>\n",
              "      </button>\n",
              "      \n",
              "  <style>\n",
              "    .colab-df-container {\n",
              "      display:flex;\n",
              "      flex-wrap:wrap;\n",
              "      gap: 12px;\n",
              "    }\n",
              "\n",
              "    .colab-df-convert {\n",
              "      background-color: #E8F0FE;\n",
              "      border: none;\n",
              "      border-radius: 50%;\n",
              "      cursor: pointer;\n",
              "      display: none;\n",
              "      fill: #1967D2;\n",
              "      height: 32px;\n",
              "      padding: 0 0 0 0;\n",
              "      width: 32px;\n",
              "    }\n",
              "\n",
              "    .colab-df-convert:hover {\n",
              "      background-color: #E2EBFA;\n",
              "      box-shadow: 0px 1px 2px rgba(60, 64, 67, 0.3), 0px 1px 3px 1px rgba(60, 64, 67, 0.15);\n",
              "      fill: #174EA6;\n",
              "    }\n",
              "\n",
              "    [theme=dark] .colab-df-convert {\n",
              "      background-color: #3B4455;\n",
              "      fill: #D2E3FC;\n",
              "    }\n",
              "\n",
              "    [theme=dark] .colab-df-convert:hover {\n",
              "      background-color: #434B5C;\n",
              "      box-shadow: 0px 1px 3px 1px rgba(0, 0, 0, 0.15);\n",
              "      filter: drop-shadow(0px 1px 2px rgba(0, 0, 0, 0.3));\n",
              "      fill: #FFFFFF;\n",
              "    }\n",
              "  </style>\n",
              "\n",
              "      <script>\n",
              "        const buttonEl =\n",
              "          document.querySelector('#df-cc325cb0-3d2f-48d0-b4fd-4a6a4de79e8b button.colab-df-convert');\n",
              "        buttonEl.style.display =\n",
              "          google.colab.kernel.accessAllowed ? 'block' : 'none';\n",
              "\n",
              "        async function convertToInteractive(key) {\n",
              "          const element = document.querySelector('#df-cc325cb0-3d2f-48d0-b4fd-4a6a4de79e8b');\n",
              "          const dataTable =\n",
              "            await google.colab.kernel.invokeFunction('convertToInteractive',\n",
              "                                                     [key], {});\n",
              "          if (!dataTable) return;\n",
              "\n",
              "          const docLinkHtml = 'Like what you see? Visit the ' +\n",
              "            '<a target=\"_blank\" href=https://colab.research.google.com/notebooks/data_table.ipynb>data table notebook</a>'\n",
              "            + ' to learn more about interactive tables.';\n",
              "          element.innerHTML = '';\n",
              "          dataTable['output_type'] = 'display_data';\n",
              "          await google.colab.output.renderOutput(dataTable, element);\n",
              "          const docLink = document.createElement('div');\n",
              "          docLink.innerHTML = docLinkHtml;\n",
              "          element.appendChild(docLink);\n",
              "        }\n",
              "      </script>\n",
              "    </div>\n",
              "  </div>\n",
              "  "
            ]
          },
          "metadata": {}
        },
        {
          "output_type": "stream",
          "name": "stdout",
          "text": [
            "The top 3 configuration for Naive Bayes is:\n",
            "\n"
          ]
        },
        {
          "output_type": "display_data",
          "data": {
            "text/plain": [
              "                                   vect__tokenizer vect__ngram_range  \\\n",
              "0  <function stemming_tokenizer at 0x7f2adf2843b0>            (1, 3)   \n",
              "1  <function stemming_tokenizer at 0x7f2adf2843b0>            (1, 3)   \n",
              "2  <function stemming_tokenizer at 0x7f2adf2843b0>            (1, 2)   \n",
              "\n",
              "   vect__min_df  clf__alpha  mean_test_score  \n",
              "0           0.0        1.00         0.893469  \n",
              "1           0.0        0.01         0.883337  \n",
              "2           0.0        0.01         0.859357  "
            ],
            "text/html": [
              "\n",
              "  <div id=\"df-30df2a25-bc14-4650-a2d9-67c7b176752e\">\n",
              "    <div class=\"colab-df-container\">\n",
              "      <div>\n",
              "<style scoped>\n",
              "    .dataframe tbody tr th:only-of-type {\n",
              "        vertical-align: middle;\n",
              "    }\n",
              "\n",
              "    .dataframe tbody tr th {\n",
              "        vertical-align: top;\n",
              "    }\n",
              "\n",
              "    .dataframe thead th {\n",
              "        text-align: right;\n",
              "    }\n",
              "</style>\n",
              "<table border=\"1\" class=\"dataframe\">\n",
              "  <thead>\n",
              "    <tr style=\"text-align: right;\">\n",
              "      <th></th>\n",
              "      <th>vect__tokenizer</th>\n",
              "      <th>vect__ngram_range</th>\n",
              "      <th>vect__min_df</th>\n",
              "      <th>clf__alpha</th>\n",
              "      <th>mean_test_score</th>\n",
              "    </tr>\n",
              "  </thead>\n",
              "  <tbody>\n",
              "    <tr>\n",
              "      <th>0</th>\n",
              "      <td>&lt;function stemming_tokenizer at 0x7f2adf2843b0&gt;</td>\n",
              "      <td>(1, 3)</td>\n",
              "      <td>0.0</td>\n",
              "      <td>1.00</td>\n",
              "      <td>0.893469</td>\n",
              "    </tr>\n",
              "    <tr>\n",
              "      <th>1</th>\n",
              "      <td>&lt;function stemming_tokenizer at 0x7f2adf2843b0&gt;</td>\n",
              "      <td>(1, 3)</td>\n",
              "      <td>0.0</td>\n",
              "      <td>0.01</td>\n",
              "      <td>0.883337</td>\n",
              "    </tr>\n",
              "    <tr>\n",
              "      <th>2</th>\n",
              "      <td>&lt;function stemming_tokenizer at 0x7f2adf2843b0&gt;</td>\n",
              "      <td>(1, 2)</td>\n",
              "      <td>0.0</td>\n",
              "      <td>0.01</td>\n",
              "      <td>0.859357</td>\n",
              "    </tr>\n",
              "  </tbody>\n",
              "</table>\n",
              "</div>\n",
              "      <button class=\"colab-df-convert\" onclick=\"convertToInteractive('df-30df2a25-bc14-4650-a2d9-67c7b176752e')\"\n",
              "              title=\"Convert this dataframe to an interactive table.\"\n",
              "              style=\"display:none;\">\n",
              "        \n",
              "  <svg xmlns=\"http://www.w3.org/2000/svg\" height=\"24px\"viewBox=\"0 0 24 24\"\n",
              "       width=\"24px\">\n",
              "    <path d=\"M0 0h24v24H0V0z\" fill=\"none\"/>\n",
              "    <path d=\"M18.56 5.44l.94 2.06.94-2.06 2.06-.94-2.06-.94-.94-2.06-.94 2.06-2.06.94zm-11 1L8.5 8.5l.94-2.06 2.06-.94-2.06-.94L8.5 2.5l-.94 2.06-2.06.94zm10 10l.94 2.06.94-2.06 2.06-.94-2.06-.94-.94-2.06-.94 2.06-2.06.94z\"/><path d=\"M17.41 7.96l-1.37-1.37c-.4-.4-.92-.59-1.43-.59-.52 0-1.04.2-1.43.59L10.3 9.45l-7.72 7.72c-.78.78-.78 2.05 0 2.83L4 21.41c.39.39.9.59 1.41.59.51 0 1.02-.2 1.41-.59l7.78-7.78 2.81-2.81c.8-.78.8-2.07 0-2.86zM5.41 20L4 18.59l7.72-7.72 1.47 1.35L5.41 20z\"/>\n",
              "  </svg>\n",
              "      </button>\n",
              "      \n",
              "  <style>\n",
              "    .colab-df-container {\n",
              "      display:flex;\n",
              "      flex-wrap:wrap;\n",
              "      gap: 12px;\n",
              "    }\n",
              "\n",
              "    .colab-df-convert {\n",
              "      background-color: #E8F0FE;\n",
              "      border: none;\n",
              "      border-radius: 50%;\n",
              "      cursor: pointer;\n",
              "      display: none;\n",
              "      fill: #1967D2;\n",
              "      height: 32px;\n",
              "      padding: 0 0 0 0;\n",
              "      width: 32px;\n",
              "    }\n",
              "\n",
              "    .colab-df-convert:hover {\n",
              "      background-color: #E2EBFA;\n",
              "      box-shadow: 0px 1px 2px rgba(60, 64, 67, 0.3), 0px 1px 3px 1px rgba(60, 64, 67, 0.15);\n",
              "      fill: #174EA6;\n",
              "    }\n",
              "\n",
              "    [theme=dark] .colab-df-convert {\n",
              "      background-color: #3B4455;\n",
              "      fill: #D2E3FC;\n",
              "    }\n",
              "\n",
              "    [theme=dark] .colab-df-convert:hover {\n",
              "      background-color: #434B5C;\n",
              "      box-shadow: 0px 1px 3px 1px rgba(0, 0, 0, 0.15);\n",
              "      filter: drop-shadow(0px 1px 2px rgba(0, 0, 0, 0.3));\n",
              "      fill: #FFFFFF;\n",
              "    }\n",
              "  </style>\n",
              "\n",
              "      <script>\n",
              "        const buttonEl =\n",
              "          document.querySelector('#df-30df2a25-bc14-4650-a2d9-67c7b176752e button.colab-df-convert');\n",
              "        buttonEl.style.display =\n",
              "          google.colab.kernel.accessAllowed ? 'block' : 'none';\n",
              "\n",
              "        async function convertToInteractive(key) {\n",
              "          const element = document.querySelector('#df-30df2a25-bc14-4650-a2d9-67c7b176752e');\n",
              "          const dataTable =\n",
              "            await google.colab.kernel.invokeFunction('convertToInteractive',\n",
              "                                                     [key], {});\n",
              "          if (!dataTable) return;\n",
              "\n",
              "          const docLinkHtml = 'Like what you see? Visit the ' +\n",
              "            '<a target=\"_blank\" href=https://colab.research.google.com/notebooks/data_table.ipynb>data table notebook</a>'\n",
              "            + ' to learn more about interactive tables.';\n",
              "          element.innerHTML = '';\n",
              "          dataTable['output_type'] = 'display_data';\n",
              "          await google.colab.output.renderOutput(dataTable, element);\n",
              "          const docLink = document.createElement('div');\n",
              "          docLink.innerHTML = docLinkHtml;\n",
              "          element.appendChild(docLink);\n",
              "        }\n",
              "      </script>\n",
              "    </div>\n",
              "  </div>\n",
              "  "
            ]
          },
          "metadata": {}
        },
        {
          "output_type": "stream",
          "name": "stdout",
          "text": [
            "\n"
          ]
        },
        {
          "output_type": "display_data",
          "data": {
            "text/plain": [
              "<Figure size 720x432 with 2 Axes>"
            ],
            "image/png": "[encoded data removed]"
          },
          "metadata": {}
        }
      ],
      "source": [
        "#YOUR CODE STARTS HERE#\n",
        "KNN_top3 = pd.DataFrame(all_grid_search[\"KNN\"].cv_results_).sort_values(\"rank_test_score\", axis = 0).head(3)\n",
        "NB_top3  = pd.DataFrame(all_grid_search[\"NB\"].cv_results_).sort_values(\"rank_test_score\", axis = 0).head(3)\n",
        "# print configuration\n",
        "print(\"The top 3 configuration for KNN is:\\n\")\n",
        "display(pd.concat([pd.DataFrame(list(KNN_top3[\"params\"])), KNN_top3[\"mean_test_score\"].reset_index(drop=True)], axis = 1))\n",
        "print(\"The top 3 configuration for Naive Bayes is:\\n\")\n",
        "display(pd.concat([pd.DataFrame(list(NB_top3[\"params\"])), NB_top3[\"mean_test_score\"].reset_index(drop=True)], axis = 1))\n",
        "print()\n",
        "# Creating plot\n",
        "plt.style.use('seaborn'); fig, (ax1, ax2) = plt.subplots(ncols=2, nrows=1, figsize=(10, 6),constrained_layout=True)\n",
        "fig.suptitle('Error bar for the Top 3 configuration', fontsize=20); ax1.set_title('KNN',fontsize=20); ax2.set_title('NB',fontsize=20);\n",
        "ax1.errorbar(np.arange(0, 1.5, step = 0.5), KNN_top3[\"mean_test_score\"], KNN_top3[\"std_test_score\"], fmt = \"ok\", lw = 3, capsize=5, capthick=3)\n",
        "ax2.errorbar(np.arange(0, 1.5, step = 0.5), NB_top3[\"mean_test_score\"], NB_top3[\"std_test_score\"], fmt = \"ok\", lw = 3, capsize=5, capthick=3)\n",
        "ax1.set_xticks(np.arange(0, 1.5, step = 0.5)); ax1.set_xticklabels(labels = [\"Best1\", \"Best2\", \"Best3\"])\n",
        "ax2.set_xticks(np.arange(0, 1.5, step = 0.5)); ax2.set_xticklabels(labels = [\"Best1\", \"Best2\", \"Best3\"])\n",
        "ax1.tick_params(axis='both', which='major', labelsize=16); ax2.tick_params(axis='both', which='major', labelsize=16)\n",
        "ax1.set_ylabel(\"F1 score\", labelpad = 10, fontsize = 16); \n",
        "#YOUR CODE ENDS HERE#\n",
        "#THIS IS LINE 20#"
      ]
    },
    {
      "cell_type": "markdown",
      "source": [
        "For each plot produced, which combination of hyper-parameters would you select?\n",
        "\n",
        "**Use at most 2 sentences (per plot).**\n",
        "\n",
        "[comment]: <> (#SHOW_CELL#)"
      ],
      "metadata": {
        "id": "eERuin8o3KXm"
      }
    },
    {
      "cell_type": "markdown",
      "metadata": {
        "id": "ypM_R80j3P-y"
      },
      "source": [
        "----------YOUR TEXT STARTS HERE----------\n",
        "\n",
        "In the first plot about the error bar for the KNN classifier we chose to retain the Best1. \n",
        "\n",
        "This is because in average is the best, and also its small standard deviation from the mean let us to choose this configuration over the others, which have lower accuracy in average and for the third configuration, also larger error. \n",
        "\n",
        "For the NB classifier we also retain the Best1 classifier, which seems identical to the Best2, but slightly better in average."
      ]
    },
    {
      "cell_type": "markdown",
      "metadata": {
        "id": "hWVFUOX1-y4k"
      },
      "source": [
        "### 1.1.7\n",
        "For each of the optimisations, obtain a classifier using the parameters you selected in step 1.1.6.\n",
        "\n",
        "Apply the classifier(s) to obtain the confusion matrix on the test data and print it out."
      ]
    },
    {
      "cell_type": "code",
      "execution_count": null,
      "metadata": {
        "id": "BTMKagGW-y4l",
        "colab": {
          "base_uri": "https://localhost:8080/",
          "height": 277
        },
        "outputId": "3fe8bab6-9c9b-46d7-a1c7-fc8506ef5f02"
      },
      "outputs": [
        {
          "output_type": "stream",
          "name": "stdout",
          "text": [
            "\n",
            "The confusion matrix for the KNN is:\n"
          ]
        },
        {
          "output_type": "display_data",
          "data": {
            "text/plain": [
              "      0     1\n",
              "0  1183   401\n",
              "1   373  1337"
            ],
            "text/html": [
              "\n",
              "  <div id=\"df-308d9a68-19ee-4a55-b1b9-2a666391b538\">\n",
              "    <div class=\"colab-df-container\">\n",
              "      <div>\n",
              "<style scoped>\n",
              "    .dataframe tbody tr th:only-of-type {\n",
              "        vertical-align: middle;\n",
              "    }\n",
              "\n",
              "    .dataframe tbody tr th {\n",
              "        vertical-align: top;\n",
              "    }\n",
              "\n",
              "    .dataframe thead th {\n",
              "        text-align: right;\n",
              "    }\n",
              "</style>\n",
              "<table border=\"1\" class=\"dataframe\">\n",
              "  <thead>\n",
              "    <tr style=\"text-align: right;\">\n",
              "      <th></th>\n",
              "      <th>0</th>\n",
              "      <th>1</th>\n",
              "    </tr>\n",
              "  </thead>\n",
              "  <tbody>\n",
              "    <tr>\n",
              "      <th>0</th>\n",
              "      <td>1183</td>\n",
              "      <td>401</td>\n",
              "    </tr>\n",
              "    <tr>\n",
              "      <th>1</th>\n",
              "      <td>373</td>\n",
              "      <td>1337</td>\n",
              "    </tr>\n",
              "  </tbody>\n",
              "</table>\n",
              "</div>\n",
              "      <button class=\"colab-df-convert\" onclick=\"convertToInteractive('df-308d9a68-19ee-4a55-b1b9-2a666391b538')\"\n",
              "              title=\"Convert this dataframe to an interactive table.\"\n",
              "              style=\"display:none;\">\n",
              "        \n",
              "  <svg xmlns=\"http://www.w3.org/2000/svg\" height=\"24px\"viewBox=\"0 0 24 24\"\n",
              "       width=\"24px\">\n",
              "    <path d=\"M0 0h24v24H0V0z\" fill=\"none\"/>\n",
              "    <path d=\"M18.56 5.44l.94 2.06.94-2.06 2.06-.94-2.06-.94-.94-2.06-.94 2.06-2.06.94zm-11 1L8.5 8.5l.94-2.06 2.06-.94-2.06-.94L8.5 2.5l-.94 2.06-2.06.94zm10 10l.94 2.06.94-2.06 2.06-.94-2.06-.94-.94-2.06-.94 2.06-2.06.94z\"/><path d=\"M17.41 7.96l-1.37-1.37c-.4-.4-.92-.59-1.43-.59-.52 0-1.04.2-1.43.59L10.3 9.45l-7.72 7.72c-.78.78-.78 2.05 0 2.83L4 21.41c.39.39.9.59 1.41.59.51 0 1.02-.2 1.41-.59l7.78-7.78 2.81-2.81c.8-.78.8-2.07 0-2.86zM5.41 20L4 18.59l7.72-7.72 1.47 1.35L5.41 20z\"/>\n",
              "  </svg>\n",
              "      </button>\n",
              "      \n",
              "  <style>\n",
              "    .colab-df-container {\n",
              "      display:flex;\n",
              "      flex-wrap:wrap;\n",
              "      gap: 12px;\n",
              "    }\n",
              "\n",
              "    .colab-df-convert {\n",
              "      background-color: #E8F0FE;\n",
              "      border: none;\n",
              "      border-radius: 50%;\n",
              "      cursor: pointer;\n",
              "      display: none;\n",
              "      fill: #1967D2;\n",
              "      height: 32px;\n",
              "      padding: 0 0 0 0;\n",
              "      width: 32px;\n",
              "    }\n",
              "\n",
              "    .colab-df-convert:hover {\n",
              "      background-color: #E2EBFA;\n",
              "      box-shadow: 0px 1px 2px rgba(60, 64, 67, 0.3), 0px 1px 3px 1px rgba(60, 64, 67, 0.15);\n",
              "      fill: #174EA6;\n",
              "    }\n",
              "\n",
              "    [theme=dark] .colab-df-convert {\n",
              "      background-color: #3B4455;\n",
              "      fill: #D2E3FC;\n",
              "    }\n",
              "\n",
              "    [theme=dark] .colab-df-convert:hover {\n",
              "      background-color: #434B5C;\n",
              "      box-shadow: 0px 1px 3px 1px rgba(0, 0, 0, 0.15);\n",
              "      filter: drop-shadow(0px 1px 2px rgba(0, 0, 0, 0.3));\n",
              "      fill: #FFFFFF;\n",
              "    }\n",
              "  </style>\n",
              "\n",
              "      <script>\n",
              "        const buttonEl =\n",
              "          document.querySelector('#df-308d9a68-19ee-4a55-b1b9-2a666391b538 button.colab-df-convert');\n",
              "        buttonEl.style.display =\n",
              "          google.colab.kernel.accessAllowed ? 'block' : 'none';\n",
              "\n",
              "        async function convertToInteractive(key) {\n",
              "          const element = document.querySelector('#df-308d9a68-19ee-4a55-b1b9-2a666391b538');\n",
              "          const dataTable =\n",
              "            await google.colab.kernel.invokeFunction('convertToInteractive',\n",
              "                                                     [key], {});\n",
              "          if (!dataTable) return;\n",
              "\n",
              "          const docLinkHtml = 'Like what you see? Visit the ' +\n",
              "            '<a target=\"_blank\" href=https://colab.research.google.com/notebooks/data_table.ipynb>data table notebook</a>'\n",
              "            + ' to learn more about interactive tables.';\n",
              "          element.innerHTML = '';\n",
              "          dataTable['output_type'] = 'display_data';\n",
              "          await google.colab.output.renderOutput(dataTable, element);\n",
              "          const docLink = document.createElement('div');\n",
              "          docLink.innerHTML = docLinkHtml;\n",
              "          element.appendChild(docLink);\n",
              "        }\n",
              "      </script>\n",
              "    </div>\n",
              "  </div>\n",
              "  "
            ]
          },
          "metadata": {}
        },
        {
          "output_type": "stream",
          "name": "stdout",
          "text": [
            "\n",
            "The confusion matrix for the NB is:\n"
          ]
        },
        {
          "output_type": "display_data",
          "data": {
            "text/plain": [
              "      0     1\n",
              "0  1342   242\n",
              "1   137  1573"
            ],
            "text/html": [
              "\n",
              "  <div id=\"df-d6190775-451d-4010-8006-5f168c2a4df1\">\n",
              "    <div class=\"colab-df-container\">\n",
              "      <div>\n",
              "<style scoped>\n",
              "    .dataframe tbody tr th:only-of-type {\n",
              "        vertical-align: middle;\n",
              "    }\n",
              "\n",
              "    .dataframe tbody tr th {\n",
              "        vertical-align: top;\n",
              "    }\n",
              "\n",
              "    .dataframe thead th {\n",
              "        text-align: right;\n",
              "    }\n",
              "</style>\n",
              "<table border=\"1\" class=\"dataframe\">\n",
              "  <thead>\n",
              "    <tr style=\"text-align: right;\">\n",
              "      <th></th>\n",
              "      <th>0</th>\n",
              "      <th>1</th>\n",
              "    </tr>\n",
              "  </thead>\n",
              "  <tbody>\n",
              "    <tr>\n",
              "      <th>0</th>\n",
              "      <td>1342</td>\n",
              "      <td>242</td>\n",
              "    </tr>\n",
              "    <tr>\n",
              "      <th>1</th>\n",
              "      <td>137</td>\n",
              "      <td>1573</td>\n",
              "    </tr>\n",
              "  </tbody>\n",
              "</table>\n",
              "</div>\n",
              "      <button class=\"colab-df-convert\" onclick=\"convertToInteractive('df-d6190775-451d-4010-8006-5f168c2a4df1')\"\n",
              "              title=\"Convert this dataframe to an interactive table.\"\n",
              "              style=\"display:none;\">\n",
              "        \n",
              "  <svg xmlns=\"http://www.w3.org/2000/svg\" height=\"24px\"viewBox=\"0 0 24 24\"\n",
              "       width=\"24px\">\n",
              "    <path d=\"M0 0h24v24H0V0z\" fill=\"none\"/>\n",
              "    <path d=\"M18.56 5.44l.94 2.06.94-2.06 2.06-.94-2.06-.94-.94-2.06-.94 2.06-2.06.94zm-11 1L8.5 8.5l.94-2.06 2.06-.94-2.06-.94L8.5 2.5l-.94 2.06-2.06.94zm10 10l.94 2.06.94-2.06 2.06-.94-2.06-.94-.94-2.06-.94 2.06-2.06.94z\"/><path d=\"M17.41 7.96l-1.37-1.37c-.4-.4-.92-.59-1.43-.59-.52 0-1.04.2-1.43.59L10.3 9.45l-7.72 7.72c-.78.78-.78 2.05 0 2.83L4 21.41c.39.39.9.59 1.41.59.51 0 1.02-.2 1.41-.59l7.78-7.78 2.81-2.81c.8-.78.8-2.07 0-2.86zM5.41 20L4 18.59l7.72-7.72 1.47 1.35L5.41 20z\"/>\n",
              "  </svg>\n",
              "      </button>\n",
              "      \n",
              "  <style>\n",
              "    .colab-df-container {\n",
              "      display:flex;\n",
              "      flex-wrap:wrap;\n",
              "      gap: 12px;\n",
              "    }\n",
              "\n",
              "    .colab-df-convert {\n",
              "      background-color: #E8F0FE;\n",
              "      border: none;\n",
              "      border-radius: 50%;\n",
              "      cursor: pointer;\n",
              "      display: none;\n",
              "      fill: #1967D2;\n",
              "      height: 32px;\n",
              "      padding: 0 0 0 0;\n",
              "      width: 32px;\n",
              "    }\n",
              "\n",
              "    .colab-df-convert:hover {\n",
              "      background-color: #E2EBFA;\n",
              "      box-shadow: 0px 1px 2px rgba(60, 64, 67, 0.3), 0px 1px 3px 1px rgba(60, 64, 67, 0.15);\n",
              "      fill: #174EA6;\n",
              "    }\n",
              "\n",
              "    [theme=dark] .colab-df-convert {\n",
              "      background-color: #3B4455;\n",
              "      fill: #D2E3FC;\n",
              "    }\n",
              "\n",
              "    [theme=dark] .colab-df-convert:hover {\n",
              "      background-color: #434B5C;\n",
              "      box-shadow: 0px 1px 3px 1px rgba(0, 0, 0, 0.15);\n",
              "      filter: drop-shadow(0px 1px 2px rgba(0, 0, 0, 0.3));\n",
              "      fill: #FFFFFF;\n",
              "    }\n",
              "  </style>\n",
              "\n",
              "      <script>\n",
              "        const buttonEl =\n",
              "          document.querySelector('#df-d6190775-451d-4010-8006-5f168c2a4df1 button.colab-df-convert');\n",
              "        buttonEl.style.display =\n",
              "          google.colab.kernel.accessAllowed ? 'block' : 'none';\n",
              "\n",
              "        async function convertToInteractive(key) {\n",
              "          const element = document.querySelector('#df-d6190775-451d-4010-8006-5f168c2a4df1');\n",
              "          const dataTable =\n",
              "            await google.colab.kernel.invokeFunction('convertToInteractive',\n",
              "                                                     [key], {});\n",
              "          if (!dataTable) return;\n",
              "\n",
              "          const docLinkHtml = 'Like what you see? Visit the ' +\n",
              "            '<a target=\"_blank\" href=https://colab.research.google.com/notebooks/data_table.ipynb>data table notebook</a>'\n",
              "            + ' to learn more about interactive tables.';\n",
              "          element.innerHTML = '';\n",
              "          dataTable['output_type'] = 'display_data';\n",
              "          await google.colab.output.renderOutput(dataTable, element);\n",
              "          const docLink = document.createElement('div');\n",
              "          docLink.innerHTML = docLinkHtml;\n",
              "          element.appendChild(docLink);\n",
              "        }\n",
              "      </script>\n",
              "    </div>\n",
              "  </div>\n",
              "  "
            ]
          },
          "metadata": {}
        }
      ],
      "source": [
        "#YOUR CODE STARTS HERE#\n",
        "# KNN -----\n",
        "best_KNN = KNN_top3[\"params\"].iloc[0]\n",
        "pipeline = Pipeline([\n",
        "\t('vect', vectorizer),\n",
        "\t('clf', KNN_clf),\n",
        "\t])\n",
        "pipeline.set_params(**best_KNN)\n",
        "pipeline.fit(train_x, train_y)\n",
        "KNN_y_pred = pipeline.predict(test_x)\n",
        "\n",
        "# NB ----\n",
        "best_NB = NB_top3[\"params\"].iloc[0]\n",
        "pipeline = Pipeline([\n",
        "\t('vect', vectorizer),\n",
        "\t('clf', NB_clf),\n",
        "\t])\n",
        "pipeline.set_params(**best_NB)\n",
        "pipeline.fit(train_x, train_y)\n",
        "NB_y_pred = pipeline.predict(test_x)\n",
        "\n",
        "# Compute the confusion matrix\n",
        "confusion_matrix_KNN = sklearn.metrics.confusion_matrix(test_y, KNN_y_pred)\n",
        "confusion_matrix_NB = sklearn.metrics.confusion_matrix(test_y, NB_y_pred)\n",
        "# display\n",
        "print(\"\\nThe confusion matrix for the KNN is:\")\n",
        "display(pd.DataFrame(confusion_matrix_KNN))\n",
        "print(\"\\nThe confusion matrix for the NB is:\")\n",
        "display(pd.DataFrame(confusion_matrix_NB))\n",
        "#YOUR CODE ENDS HERE#\n",
        "#THIS IS LINE 30#"
      ]
    },
    {
      "cell_type": "markdown",
      "metadata": {
        "id": "Cwbz2kzQrYRY"
      },
      "source": [
        "## Part 1.2\n",
        "In this part, we will perform a one-hot encoding of the data, then train a classifier, optimising its hyper-parameters.\n",
        "\n",
        "The goal is to maximise accuracy on the test set defined in step 1.1.2"
      ]
    },
    {
      "cell_type": "markdown",
      "metadata": {
        "id": "se_giGbPrYRZ"
      },
      "source": [
        "### 1.2.1\n",
        "Use the same data partitioned in part 1.1.2.\n",
        "\n",
        "Transform the data with one-hot encoding."
      ]
    },
    {
      "cell_type": "code",
      "source": [
        "#YOUR CODE STARTS HERE# \n",
        "nltk.download('words'); words = set(nltk.corpus.words.words())\n",
        "def preprocessing(text):\n",
        "  punctuationfree = \"\".join([i for i in text if i not in string.punctuation+\"\\n\"])\n",
        "  tokens = punctuationfree.lower().split()\n",
        "  stemming_tokens = [stemmer.stem(i) for i in tokens  if (i in words)] #and (i not in english_stopwords)]\n",
        "  return stemming_tokens\n",
        "# One hot encoding realize by specifiy TfidVectorizer tf = 1, idf = 1, normalize = False\n",
        "# Also we remove the words that appear less than the 0.5% of documents, this reduce a lot the\n",
        "# number of word in our final dictionary. We have done this because due to the limitation of \n",
        "# RAM storage of Colab we can't store a dense very large matrix (to pass to PCA).\n",
        "# Also is more important occurencies than frequencies.\n",
        "vectorizer = TfidfVectorizer(strip_accents = \"ascii\", tokenizer = preprocessing, min_df = 0.005, \n",
        "                             binary = True, use_idf=False, norm = None)\n",
        "# Fit on the training set and transform both\n",
        "OneHotMatrix_train_x = vectorizer.fit_transform(train_x).A\n",
        "OneHotMatrix_test_x  = vectorizer.transform(test_x).A\n",
        "print(\"OneHotEncoding dimension on train_x:\", OneHotMatrix_train_x.shape)\n",
        "#YOUR CODE ENDS HERE#\n",
        "#THIS IS LINE 20#"
      ],
      "metadata": {
        "id": "uN0fEjBR4j8y",
        "colab": {
          "base_uri": "https://localhost:8080/"
        },
        "outputId": "ebb2c936-9e69-48f7-c80d-17f017936966"
      },
      "execution_count": null,
      "outputs": [
        {
          "output_type": "stream",
          "name": "stderr",
          "text": [
            "[nltk_data] Downloading package words to /root/nltk_data...\n",
            "[nltk_data]   Unzipping corpora/words.zip.\n"
          ]
        },
        {
          "output_type": "stream",
          "name": "stdout",
          "text": [
            "OneHotEncoding dimension on train_x: (18662, 1087)\n"
          ]
        }
      ]
    },
    {
      "cell_type": "markdown",
      "metadata": {
        "id": "JU-9m2ik4YQV"
      },
      "source": [
        "### 1.2.2\n",
        "Before training the classifier, transform the data using Principal Component Analysis.\n",
        "\n",
        "Taking into account the objective of Part 1.2 and the limitations explained in the following steps, estimate and select the best number of components.\n",
        "\n",
        "Multiple code cells are provided, but it is **NOT** mandatory to use them all."
      ]
    },
    {
      "cell_type": "code",
      "execution_count": null,
      "metadata": {
        "id": "54tCyCDm4YQY"
      },
      "outputs": [],
      "source": [
        "#YOUR CODE STARTS HERE#\n",
        "# Standardize OneHotEncoder to perform the PCA\n",
        "scaler = StandardScaler()\n",
        "OneHotMatrix_train_x = scaler.fit_transform(OneHotMatrix_train_x)\n",
        "# Perform PCA with the maximum n_components\n",
        "# We use a small number of component just to achive PCA w/out Colab to stop running\n",
        "# by exceed of RAM usage, and in the same time to see some information on the below plot\n",
        "n_components = 100\n",
        "pca = PCA(n_components, random_state = 2468)\n",
        "PCA_train_x = pca.fit_transform(OneHotMatrix_train_x)\n",
        "\n",
        "# SELECT THE NUMBER OF COMPONENT\n",
        "num_of_components_needed = 25\n",
        "PCA_train_x = PCA_train_x[:, :num_of_components_needed]\n",
        "# FIT ON THE TEST\n",
        "OneHotMatrix_test_x = scaler.transform(OneHotMatrix_test_x)\n",
        "PCA_test_x = pca.transform(OneHotMatrix_test_x)\n",
        "PCA_test_x = PCA_test_x[:, :num_of_components_needed]\n",
        "#YOUR CODE ENDS HERE#\n",
        "#THIS IS LINE 20#"
      ]
    },
    {
      "cell_type": "code",
      "source": [
        "#YOUR CODE STARTS HERE#\n",
        "fig, axes = plt.subplots(nrows=1, ncols=2, figsize=(10, 5))\n",
        "# CUMULATIVE EXPLAINED VARIANCE RATIO PLOT\n",
        "exp_var_ratio_needed = 0.1\n",
        "cumulative_explained_variance_ratio = np.cumsum(pca.explained_variance_ratio_)\n",
        "num_of_components_needed = np.where(cumulative_explained_variance_ratio>exp_var_ratio_needed)[0][0]+1\n",
        "print(\"# Components needed:\", num_of_components_needed)\n",
        "print(\"Explained variance ratio:\",cumulative_explained_variance_ratio[num_of_components_needed-1])\n",
        "axes[0].plot(range(1,n_components+1),np.cumsum(pca.explained_variance_ratio_))\n",
        "axes[0].set_xlabel(\"# components\"); axes[0].set_ylabel(\"Cumulative explained variance ratio\")\n",
        "axes[0].axhline(exp_var_ratio_needed, color=\"red\"); axes[0].axvline(num_of_components_needed, color=\"blue\")\n",
        "axes[0].legend([\"Explained variance ratio\",\"Explained variance ratio needed\",\"Optimal number of components\"])\n",
        "# ELBOW PLOT\n",
        "axes[1].plot(range(1,n_components+1),pca.explained_variance_ratio_)\n",
        "axes[1].set_xlabel(\"# components\")\n",
        "axes[1].set_ylabel(\"Explained variance ratio per component\")\n",
        "fig.tight_layout()\n",
        "plt.show()\n",
        "#YOUR CODE ENDS HERE#\n",
        "#THIS IS LINE 20#"
      ],
      "metadata": {
        "colab": {
          "base_uri": "https://localhost:8080/",
          "height": 404
        },
        "id": "Qplkk_g36CDp",
        "outputId": "a1737e56-71e8-4034-aed2-60ab825e0303"
      },
      "execution_count": null,
      "outputs": [
        {
          "output_type": "stream",
          "name": "stdout",
          "text": [
            "# Components needed: 35\n",
            "Explained variance ratio: 0.1008784644362353\n"
          ]
        },
        {
          "output_type": "display_data",
          "data": {
            "text/plain": [
              "<Figure size 720x360 with 2 Axes>"
            ],
            "image/png": "[encoded data removed]"
          },
          "metadata": {}
        }
      ]
    },
    {
      "cell_type": "markdown",
      "source": [
        "Explain your decision in **at most 2 sentences**.\n",
        "\n",
        "[comment]: <> (#SHOW_CELL#)"
      ],
      "metadata": {
        "id": "W5jEHyOV5ImP"
      }
    },
    {
      "cell_type": "markdown",
      "source": [
        "----------YOUR TEXT STARTS HERE----------\n",
        "\n",
        "1. Due to the restrict time we try to reduce as possible the vocabolary for One Hot Encoding using a specific preproccessing and deleting word that appears in less than the 0.5% of documents, because for us the important thing was to have word occurances first.\n",
        "\n",
        "2. For the same problem as before we need to pass to the classifier low number of features, because the Brute Force KNN must compute the distance among all the points, so using a low number of features allow us to have the right amont of explained variance and remain in the time."
      ],
      "metadata": {
        "id": "Q8gEr-Ib6LBT"
      }
    },
    {
      "cell_type": "markdown",
      "metadata": {
        "id": "wvM51eFn4YWT"
      },
      "source": [
        "### 1.2.3\n",
        "You must optimise the hyper-parameters of a classifier by respecting the following limits:\n",
        "> Regarding the classifier:\n",
        "  * The classifier must be **KNeighborsClassifier**\n",
        "  * The algorithm used must be **\"brute\"**.\n",
        "  * It is forbidden to run the algorithm in *parallel* (must be specified)\n",
        "\n",
        "> Regarding the optimisation:\n",
        "  * A **9-fold** Cross-Validation must be performed\n",
        "  * You must test **exactly 20** configurations\n",
        "  * Optimisation CANNOT take longer than **100 seconds**. Print out the execution time\n",
        "  * It is forbidden to run the optimisation in *parallel* (must be specified)"
      ]
    },
    {
      "cell_type": "code",
      "source": [
        "#YOUR CODE STARTS HERE#\n",
        "scaler2 = StandardScaler()\n",
        "PCA_train_x_scale = scaler2.fit_transform(PCA_train_x)\n",
        "\n",
        "clf = KNeighborsClassifier()\n",
        "KNN_parameters = {'n_neighbors': [1,2,3,10], # 3 value fast, 1 big enough slow\n",
        "                  \"weights\": [\"uniform\", \"distance\"], \n",
        "                  \"metric\": [\"cosine\",\"cityblock\", \"euclidean\"], # faster metrics in sklearn\n",
        "                  'algorithm': ['brute'], # Brute\n",
        "                  'n_jobs': [1]  # No Parallel\n",
        " }\n",
        "\n",
        "grid_search = RandomizedSearchCV( clf, \n",
        "                            param_distributions = KNN_parameters,\n",
        "                            cv = 9, verbose = 1,  n_iter = 20,\n",
        "                            n_jobs = 1,  # No Parallel\n",
        "                            random_state = 2468,\n",
        "                            scoring = \"accuracy\"\n",
        "                          )\n",
        "\n",
        "start_time = time.time()\n",
        "grid_search.fit(PCA_train_x_scale, train_y)\n",
        "print(\"--- %s seconds ---\" % round(time.time() - start_time, 3))\n",
        "\n",
        "print()\n",
        "print(f\"We obtain an accuracy on the test set of {round(grid_search.best_score_,3)}\" )\n",
        "\n",
        "\n",
        "#YOUR CODE ENDS HERE#\n",
        "#THIS IS LINE 30#"
      ],
      "metadata": {
        "colab": {
          "base_uri": "https://localhost:8080/"
        },
        "id": "AMNQYKRgQb9z",
        "outputId": "2a997059-122d-4d6f-f1b9-51f8f4c96b27"
      },
      "execution_count": null,
      "outputs": [
        {
          "output_type": "stream",
          "name": "stdout",
          "text": [
            "Fitting 9 folds for each of 20 candidates, totalling 180 fits\n",
            "--- 92.415 seconds ---\n",
            "\n",
            "We obtain an accuracy on the test set of 0.777\n"
          ]
        }
      ]
    },
    {
      "cell_type": "markdown",
      "metadata": {
        "id": "1Zp8_2Ih4YjC"
      },
      "source": [
        "### 1.2.4\n",
        "Select the combination of hyper-parameters that obtains the **best accuracy**.\n",
        "\n",
        "Apply the classifier that uses these parameters to obtain the confusion matrix on the test data and print it out."
      ]
    },
    {
      "cell_type": "code",
      "execution_count": null,
      "metadata": {
        "id": "yhYPqsRO4YjD",
        "colab": {
          "base_uri": "https://localhost:8080/",
          "height": 129
        },
        "outputId": "e3931ac5-1325-4f73-a168-d7d7d1796b61"
      },
      "outputs": [
        {
          "output_type": "stream",
          "name": "stdout",
          "text": [
            "The confusion matrix for the KNN is:\n"
          ]
        },
        {
          "output_type": "display_data",
          "data": {
            "text/plain": [
              "      0     1\n",
              "0  1238   346\n",
              "1   378  1332"
            ],
            "text/html": [
              "\n",
              "  <div id=\"df-57c4c4df-0f51-424a-894c-2938c9c85553\">\n",
              "    <div class=\"colab-df-container\">\n",
              "      <div>\n",
              "<style scoped>\n",
              "    .dataframe tbody tr th:only-of-type {\n",
              "        vertical-align: middle;\n",
              "    }\n",
              "\n",
              "    .dataframe tbody tr th {\n",
              "        vertical-align: top;\n",
              "    }\n",
              "\n",
              "    .dataframe thead th {\n",
              "        text-align: right;\n",
              "    }\n",
              "</style>\n",
              "<table border=\"1\" class=\"dataframe\">\n",
              "  <thead>\n",
              "    <tr style=\"text-align: right;\">\n",
              "      <th></th>\n",
              "      <th>0</th>\n",
              "      <th>1</th>\n",
              "    </tr>\n",
              "  </thead>\n",
              "  <tbody>\n",
              "    <tr>\n",
              "      <th>0</th>\n",
              "      <td>1238</td>\n",
              "      <td>346</td>\n",
              "    </tr>\n",
              "    <tr>\n",
              "      <th>1</th>\n",
              "      <td>378</td>\n",
              "      <td>1332</td>\n",
              "    </tr>\n",
              "  </tbody>\n",
              "</table>\n",
              "</div>\n",
              "      <button class=\"colab-df-convert\" onclick=\"convertToInteractive('df-57c4c4df-0f51-424a-894c-2938c9c85553')\"\n",
              "              title=\"Convert this dataframe to an interactive table.\"\n",
              "              style=\"display:none;\">\n",
              "        \n",
              "  <svg xmlns=\"http://www.w3.org/2000/svg\" height=\"24px\"viewBox=\"0 0 24 24\"\n",
              "       width=\"24px\">\n",
              "    <path d=\"M0 0h24v24H0V0z\" fill=\"none\"/>\n",
              "    <path d=\"M18.56 5.44l.94 2.06.94-2.06 2.06-.94-2.06-.94-.94-2.06-.94 2.06-2.06.94zm-11 1L8.5 8.5l.94-2.06 2.06-.94-2.06-.94L8.5 2.5l-.94 2.06-2.06.94zm10 10l.94 2.06.94-2.06 2.06-.94-2.06-.94-.94-2.06-.94 2.06-2.06.94z\"/><path d=\"M17.41 7.96l-1.37-1.37c-.4-.4-.92-.59-1.43-.59-.52 0-1.04.2-1.43.59L10.3 9.45l-7.72 7.72c-.78.78-.78 2.05 0 2.83L4 21.41c.39.39.9.59 1.41.59.51 0 1.02-.2 1.41-.59l7.78-7.78 2.81-2.81c.8-.78.8-2.07 0-2.86zM5.41 20L4 18.59l7.72-7.72 1.47 1.35L5.41 20z\"/>\n",
              "  </svg>\n",
              "      </button>\n",
              "      \n",
              "  <style>\n",
              "    .colab-df-container {\n",
              "      display:flex;\n",
              "      flex-wrap:wrap;\n",
              "      gap: 12px;\n",
              "    }\n",
              "\n",
              "    .colab-df-convert {\n",
              "      background-color: #E8F0FE;\n",
              "      border: none;\n",
              "      border-radius: 50%;\n",
              "      cursor: pointer;\n",
              "      display: none;\n",
              "      fill: #1967D2;\n",
              "      height: 32px;\n",
              "      padding: 0 0 0 0;\n",
              "      width: 32px;\n",
              "    }\n",
              "\n",
              "    .colab-df-convert:hover {\n",
              "      background-color: #E2EBFA;\n",
              "      box-shadow: 0px 1px 2px rgba(60, 64, 67, 0.3), 0px 1px 3px 1px rgba(60, 64, 67, 0.15);\n",
              "      fill: #174EA6;\n",
              "    }\n",
              "\n",
              "    [theme=dark] .colab-df-convert {\n",
              "      background-color: #3B4455;\n",
              "      fill: #D2E3FC;\n",
              "    }\n",
              "\n",
              "    [theme=dark] .colab-df-convert:hover {\n",
              "      background-color: #434B5C;\n",
              "      box-shadow: 0px 1px 3px 1px rgba(0, 0, 0, 0.15);\n",
              "      filter: drop-shadow(0px 1px 2px rgba(0, 0, 0, 0.3));\n",
              "      fill: #FFFFFF;\n",
              "    }\n",
              "  </style>\n",
              "\n",
              "      <script>\n",
              "        const buttonEl =\n",
              "          document.querySelector('#df-57c4c4df-0f51-424a-894c-2938c9c85553 button.colab-df-convert');\n",
              "        buttonEl.style.display =\n",
              "          google.colab.kernel.accessAllowed ? 'block' : 'none';\n",
              "\n",
              "        async function convertToInteractive(key) {\n",
              "          const element = document.querySelector('#df-57c4c4df-0f51-424a-894c-2938c9c85553');\n",
              "          const dataTable =\n",
              "            await google.colab.kernel.invokeFunction('convertToInteractive',\n",
              "                                                     [key], {});\n",
              "          if (!dataTable) return;\n",
              "\n",
              "          const docLinkHtml = 'Like what you see? Visit the ' +\n",
              "            '<a target=\"_blank\" href=https://colab.research.google.com/notebooks/data_table.ipynb>data table notebook</a>'\n",
              "            + ' to learn more about interactive tables.';\n",
              "          element.innerHTML = '';\n",
              "          dataTable['output_type'] = 'display_data';\n",
              "          await google.colab.output.renderOutput(dataTable, element);\n",
              "          const docLink = document.createElement('div');\n",
              "          docLink.innerHTML = docLinkHtml;\n",
              "          element.appendChild(docLink);\n",
              "        }\n",
              "      </script>\n",
              "    </div>\n",
              "  </div>\n",
              "  "
            ]
          },
          "metadata": {}
        }
      ],
      "source": [
        "#YOUR CODE STARTS HERE#\n",
        "best_model = grid_search.best_estimator_\n",
        "PCA_test_x_scaled = scaler2.transform(PCA_test_x)  \n",
        "\n",
        "KNN_y_pred = best_model.predict(PCA_test_x_scaled)\n",
        "\n",
        "# Compute the confusion matrix\n",
        "confusion_matrix_KNN = sklearn.metrics.confusion_matrix(test_y, KNN_y_pred)\n",
        "\n",
        "# display\n",
        "print(\"The confusion matrix for the KNN is:\")\n",
        "display(pd.DataFrame(confusion_matrix_KNN))\n",
        " \n",
        "\n",
        "\n",
        "\n",
        "\n",
        "\n",
        "\n",
        "\n",
        "\n",
        "\n",
        "\n",
        "\n",
        "\n",
        "\n",
        "\n",
        "\n",
        "#YOUR CODE ENDS HERE#\n",
        "#THIS IS LINE 30#"
      ]
    },
    {
      "cell_type": "markdown",
      "metadata": {
        "id": "XUikJP59ebgQ"
      },
      "source": [
        "# Part 2: Transformer for sentence embeddings\n",
        "In this part of the homework, more complex data encodings will be used."
      ]
    },
    {
      "cell_type": "markdown",
      "metadata": {
        "id": "Nsh93bnylqAX"
      },
      "source": [
        "## Part 2.0\n",
        "Import here **ALL** the Python packages that you need for Part 2."
      ]
    },
    {
      "cell_type": "code",
      "execution_count": null,
      "metadata": {
        "id": "puYHRVRFlwQk",
        "colab": {
          "base_uri": "https://localhost:8080/"
        },
        "outputId": "db118019-cc3b-44ae-eabe-8b155d57270a"
      },
      "outputs": [
        {
          "output_type": "stream",
          "name": "stdout",
          "text": [
            "Looking in indexes: https://pypi.org/simple, https://us-python.pkg.dev/colab-wheels/public/simple/\n",
            "Requirement already satisfied: sentence-transformers in /usr/local/lib/python3.7/dist-packages (2.2.0)\n",
            "Requirement already satisfied: scipy in /usr/local/lib/python3.7/dist-packages (from sentence-transformers) (1.4.1)\n",
            "Requirement already satisfied: torch>=1.6.0 in /usr/local/lib/python3.7/dist-packages (from sentence-transformers) (1.11.0+cu113)\n",
            "Requirement already satisfied: transformers<5.0.0,>=4.6.0 in /usr/local/lib/python3.7/dist-packages (from sentence-transformers) (4.19.4)\n",
            "Requirement already satisfied: scikit-learn in /usr/local/lib/python3.7/dist-packages (from sentence-transformers) (1.0.2)\n",
            "Requirement already satisfied: tqdm in /usr/local/lib/python3.7/dist-packages (from sentence-transformers) (4.64.0)\n",
            "Requirement already satisfied: nltk in /usr/local/lib/python3.7/dist-packages (from sentence-transformers) (3.7)\n",
            "Requirement already satisfied: torchvision in /usr/local/lib/python3.7/dist-packages (from sentence-transformers) (0.12.0+cu113)\n",
            "Requirement already satisfied: sentencepiece in /usr/local/lib/python3.7/dist-packages (from sentence-transformers) (0.1.96)\n",
            "Requirement already satisfied: numpy in /usr/local/lib/python3.7/dist-packages (from sentence-transformers) (1.21.6)\n",
            "Requirement already satisfied: huggingface-hub in /usr/local/lib/python3.7/dist-packages (from sentence-transformers) (0.7.0)\n",
            "Requirement already satisfied: typing-extensions in /usr/local/lib/python3.7/dist-packages (from torch>=1.6.0->sentence-transformers) (4.2.0)\n",
            "Requirement already satisfied: tokenizers!=0.11.3,<0.13,>=0.11.1 in /usr/local/lib/python3.7/dist-packages (from transformers<5.0.0,>=4.6.0->sentence-transformers) (0.12.1)\n",
            "Requirement already satisfied: packaging>=20.0 in /usr/local/lib/python3.7/dist-packages (from transformers<5.0.0,>=4.6.0->sentence-transformers) (21.3)\n",
            "Requirement already satisfied: importlib-metadata in /usr/local/lib/python3.7/dist-packages (from transformers<5.0.0,>=4.6.0->sentence-transformers) (4.11.4)\n",
            "Requirement already satisfied: requests in /usr/local/lib/python3.7/dist-packages (from transformers<5.0.0,>=4.6.0->sentence-transformers) (2.23.0)\n",
            "Requirement already satisfied: regex!=2019.12.17 in /usr/local/lib/python3.7/dist-packages (from transformers<5.0.0,>=4.6.0->sentence-transformers) (2022.6.2)\n",
            "Requirement already satisfied: filelock in /usr/local/lib/python3.7/dist-packages (from transformers<5.0.0,>=4.6.0->sentence-transformers) (3.7.1)\n",
            "Requirement already satisfied: pyyaml>=5.1 in /usr/local/lib/python3.7/dist-packages (from transformers<5.0.0,>=4.6.0->sentence-transformers) (6.0)\n",
            "Requirement already satisfied: pyparsing!=3.0.5,>=2.0.2 in /usr/local/lib/python3.7/dist-packages (from packaging>=20.0->transformers<5.0.0,>=4.6.0->sentence-transformers) (3.0.9)\n",
            "Requirement already satisfied: zipp>=0.5 in /usr/local/lib/python3.7/dist-packages (from importlib-metadata->transformers<5.0.0,>=4.6.0->sentence-transformers) (3.8.0)\n",
            "Requirement already satisfied: joblib in /usr/local/lib/python3.7/dist-packages (from nltk->sentence-transformers) (1.1.0)\n",
            "Requirement already satisfied: click in /usr/local/lib/python3.7/dist-packages (from nltk->sentence-transformers) (7.1.2)\n",
            "Requirement already satisfied: chardet<4,>=3.0.2 in /usr/local/lib/python3.7/dist-packages (from requests->transformers<5.0.0,>=4.6.0->sentence-transformers) (3.0.4)\n",
            "Requirement already satisfied: idna<3,>=2.5 in /usr/local/lib/python3.7/dist-packages (from requests->transformers<5.0.0,>=4.6.0->sentence-transformers) (2.10)\n",
            "Requirement already satisfied: certifi>=2017.4.17 in /usr/local/lib/python3.7/dist-packages (from requests->transformers<5.0.0,>=4.6.0->sentence-transformers) (2022.5.18.1)\n",
            "Requirement already satisfied: urllib3!=1.25.0,!=1.25.1,<1.26,>=1.21.1 in /usr/local/lib/python3.7/dist-packages (from requests->transformers<5.0.0,>=4.6.0->sentence-transformers) (1.24.3)\n",
            "Requirement already satisfied: threadpoolctl>=2.0.0 in /usr/local/lib/python3.7/dist-packages (from scikit-learn->sentence-transformers) (3.1.0)\n",
            "Requirement already satisfied: pillow!=8.3.*,>=5.3.0 in /usr/local/lib/python3.7/dist-packages (from torchvision->sentence-transformers) (7.1.2)\n"
          ]
        }
      ],
      "source": [
        "#REMOVE_OUTPUT#\n",
        "#YOUR CODE STARTS HERE#\n",
        "!pip install -U sentence-transformers\n",
        "from sentence_transformers import SentenceTransformer\n",
        "from sklearn.model_selection import PredefinedSplit\n",
        "from sklearn.svm import SVC; import sklearn.metrics; import seaborn as sns\n",
        "from sklearn.ensemble import RandomForestClassifier\n",
        "from sklearn.neighbors import KNeighborsClassifier \n",
        "#YOUR CODE ENDS HERE#\n",
        "#THIS IS LINE 10#"
      ]
    },
    {
      "cell_type": "markdown",
      "metadata": {
        "id": "rk-JaiE_hB8h"
      },
      "source": [
        "## Part 2.1\n",
        "In this part, we will use a Transformer to obtain sentence embeddings for each document.\n",
        "\n",
        "We will then train a classifier, optimising its hyper-parameters.\n",
        "\n",
        "The goal is to maximise precision on the test set defined in step 1.1.2, but it is necessary to have a recall of **at least 70%**, according to the optimisation results.\n"
      ]
    },
    {
      "cell_type": "markdown",
      "metadata": {
        "id": "Mz5AtR_6ge6h"
      },
      "source": [
        "### 2.1.1\n",
        "Separate the training set created in step 1.1.2 into two parts: training set and validation set, with a **75/25 split**.\n",
        "\n",
        "From now on, when we refer to the training set, we are referring to the training set created in this step and no longer to the training set created in step 1.1.2.\n",
        "\n",
        "Print out the percentage of samples with positive labels in the training, validation and test set."
      ]
    },
    {
      "cell_type": "code",
      "execution_count": null,
      "metadata": {
        "id": "k5WUCZAd_CG0",
        "colab": {
          "base_uri": "https://localhost:8080/"
        },
        "outputId": "8fb7e7f3-e0f3-408d-af8e-105cf1afea62"
      },
      "outputs": [
        {
          "output_type": "stream",
          "name": "stdout",
          "text": [
            "Training Set Percentage of positive labels: 51.643%\n",
            "Validation Set Percentage of positive labels: 51.913%\n",
            "Test Set Percentage of positive labels: 51.913%\n"
          ]
        }
      ],
      "source": [
        "#YOUR CODE STARTS HERE#\n",
        "training_x, validation_x, training_y, validation_y = train_test_split(train_x, train_y, \n",
        "                                                                test_size=0.25, \n",
        "                                                                shuffle=True, \n",
        "                                                                random_state = 2468) \n",
        "\n",
        "# print the percentage of samples with positive labels\n",
        "# in the training, validation and test set\n",
        "training_positive_perc = np.mean(training_y)*100\n",
        "validation_positive_perc = np.mean(validation_y)*100\n",
        "test_positive_perc = np.mean(test_y)*100\n",
        "print(f\"Training Set Percentage of positive labels: {np.round(training_positive_perc, 3)}%\")\n",
        "print(f\"Validation Set Percentage of positive labels: {np.round(test_positive_perc,3)}%\")\n",
        "print(f\"Test Set Percentage of positive labels: {np.round(test_positive_perc,3)}%\")\n",
        "\n",
        "\n",
        "\n",
        "\n",
        "#YOUR CODE ENDS HERE#\n",
        "#THIS IS LINE 20#"
      ]
    },
    {
      "cell_type": "markdown",
      "metadata": {
        "id": "MeJlxd5BZjRI"
      },
      "source": [
        "### 2.1.2\n",
        "Following the *constraints* imposed by Part 2.1 and by the following steps, select **at MOST 2 different sentence-transformers models** and instantiate them.\n"
      ]
    },
    {
      "cell_type": "code",
      "execution_count": null,
      "metadata": {
        "id": "WTSwJXbkZqp5"
      },
      "outputs": [],
      "source": [
        "#YOUR CODE STARTS HERE#\n",
        "\n",
        "# define the name of the model \n",
        "model_name = \"paraphrase-MiniLM-L12-v2\"\n",
        "# instanciate the model\n",
        "model = SentenceTransformer(\"paraphrase-MiniLM-L12-v2\")\n",
        "\n",
        "\n",
        "# Sentence Embeddings tried but not used \n",
        "Takes_to_much_time_downloading = [\"all-mpnet-base-v2\",\"sentence-t5-base\", \"all-mpnet-base-v1\",\n",
        "                      \"sentence-t5-large\", \"paraphrase-mpnet-base-v2\", \"all-distilroberta-v1\",\n",
        "                      \"all-distilroberta-v1\"]\n",
        "\n",
        "good_but_not_in_time_for_fitting = [\"paraphrase-multilingual-MiniLM-L12-v2\",\n",
        "                                    \"paraphrase-multilingual-mpnet-base-v2\",\n",
        "                            \"paraphrase-albert-small-v2\",\"paraphrase-MiniLM-L6-v2\"]\n",
        "\n",
        "\n",
        "#YOUR CODE ENDS HERE#\n",
        "#THIS IS LINE 20#"
      ]
    },
    {
      "cell_type": "markdown",
      "metadata": {
        "id": "kt6pXlGxZq1g"
      },
      "source": [
        "### 2.1.3\n",
        "Use all sentence transformers selected in step 2.1.2 to encode training, validation and test set data.\n",
        "\n",
        "EACH model MUST take **LESS than 2 minutes** to process ALL data. For each model, print out the time taken for encoding each set, and the total time"
      ]
    },
    {
      "cell_type": "code",
      "execution_count": null,
      "metadata": {
        "id": "3c8vPdgwZr77",
        "colab": {
          "base_uri": "https://localhost:8080/"
        },
        "outputId": "bb50f20e-1089-4ea7-d81a-38330c297c53"
      },
      "outputs": [
        {
          "output_type": "stream",
          "name": "stdout",
          "text": [
            "--- Train set: [58.508] secs ---\n",
            "--- Validation set: [10.819] secs ---\n",
            "--- Test set: [7.959] secs ---\n",
            "Total time: 77.286 secs\n",
            "\n"
          ]
        }
      ],
      "source": [
        "#YOUR CODE STARTS HERE#\n",
        "embedding = {}\n",
        "\n",
        "# ---- START THE ENCODING ---- #\n",
        "time_vec = np.zeros((3,1)) # initialize array to store time \n",
        "start_time = time.time()\n",
        "embedding[\"train\"] = model.encode(training_x, show_progress_bar=False) #Get the embeddings for train\n",
        "time_vec[0] = time.time() - start_time\n",
        "print(f\"--- Train set: {np.round(time_vec[0],3)} secs ---\")\n",
        "embedding[\"validation\"] = model.encode(validation_x, show_progress_bar=False) #Get the embeddings for test\n",
        "time_vec[1] = time.time() - start_time - np.sum(time_vec)\n",
        "print(f\"--- Validation set: {np.round(time_vec[1],3)} secs ---\")\n",
        "embedding[\"test\"] = model.encode(test_x, show_progress_bar=False) #Get the embeddings for validation\n",
        "time_vec[2] = time.time() - start_time - np.sum(time_vec)\n",
        "print(f\"--- Test set: {np.round(time_vec[2],3)} secs ---\")\n",
        "print(f\"Total time: {np.round(np.sum(time_vec),3)} secs\\n\")\n",
        "# ---- FINISH THE ENCODING ---- #\n",
        "\n",
        "#YOUR CODE ENDS HERE#\n",
        "#THIS IS LINE 20#"
      ]
    },
    {
      "cell_type": "markdown",
      "metadata": {
        "id": "9rqpaEKvZupX"
      },
      "source": [
        "### 2.1.4\n",
        "Select **1 classifier** of your choice (from those seen during the course)"
      ]
    },
    {
      "cell_type": "code",
      "execution_count": null,
      "metadata": {
        "id": "A05Rgv64Zvde"
      },
      "outputs": [],
      "source": [
        "#YOUR CODE STARTS HERE#\n",
        "# Initialize the classifier, in this case the SVM\n",
        "clf = SVC()\n",
        "# Initialize the parameters dictionary to perform the \n",
        "# tuning later\n",
        "parameters = {'C': [0.1, 0.5, 1., 5., 10.],\n",
        "              'kernel': ['linear', 'rbf']\n",
        "              }\n",
        "#YOUR CODE ENDS HERE#\n",
        "#THIS IS LINE 10#"
      ]
    },
    {
      "cell_type": "markdown",
      "metadata": {
        "id": "72kpxJnjZv40"
      },
      "source": [
        "### 2.1.5\n",
        "Perform the best hyper-parameter optimisation you can afford in **LESS than 10 minutes**. Print out the total time taken.\n",
        "\n",
        "Use the data prepared in step 2.1.3. If you have performed two encodings, keep in mind that the maximum total optimisation time is STILL 10 minutes (*and NOT 20!*).\n",
        "\n",
        "Multiple code cells are provided, but it is **NOT** mandatory to use them all."
      ]
    },
    {
      "cell_type": "code",
      "source": [
        "#YOUR CODE STARTS HERE#\n",
        "\n",
        "# ----------- HYPER PARAMETER OPTIMIZATION --------------#\n",
        "train = embedding[\"train\"]\n",
        "validation = embedding[\"validation\"]\n",
        "\n",
        "reconstructed_original_train_x = np.concatenate([train, validation])\n",
        "reconstructed_original_train_y = np.concatenate([training_y, validation_y])\n",
        "\n",
        "# Create a list where train data indices are -1 and validation data indices are 0\n",
        "# the index = -1 are not considered in the test set of Grid Search\n",
        "split_index = np.concatenate([\n",
        "    # The training data.\n",
        "    np.full(fill_value = -1, shape = train.shape[0], dtype = np.int8),\n",
        "    # The validation data.\n",
        "    np.zeros(validation.shape[0], dtype = np.int8)\n",
        "])\n",
        "\n",
        "# Use the list to create PredefinedSplit\n",
        "pds = PredefinedSplit(test_fold = split_index)\n",
        "\n",
        "# Use PredefinedSplit in GridSearchCV\n",
        "grid_search = GridSearchCV(estimator = clf,\n",
        "                    param_grid = parameters,\n",
        "                    scoring = \"precision\",\n",
        "                    cv = pds, verbose = 1, \n",
        "                    )\n",
        "\n",
        "#YOUR CODE ENDS HERE#\n",
        "#THIS IS LINE 30#"
      ],
      "metadata": {
        "id": "MabmVQo0U3Wq"
      },
      "execution_count": null,
      "outputs": []
    },
    {
      "cell_type": "code",
      "source": [
        "#YOUR CODE STARTS HERE#\n",
        "\n",
        "# Fit with all data\n",
        "start_time = time.time()\n",
        "grid_search.fit(reconstructed_original_train_x, reconstructed_original_train_y)\n",
        "end_time = time.time()\n",
        "\n",
        "minutes, seconds = divmod(end_time - start_time, 60)\n",
        "print(f\"--- Tuning time: {minutes}:{seconds} min ---\")\n",
        "\n",
        "\n",
        "# Also print best accuracy and model \n",
        "print(f\"--- Best Accuracy score: {grid_search.best_score_} ---\")\n",
        "print(f\"--- Best model: {grid_search.best_estimator_} ---\")\n",
        "\n",
        "\n",
        "\n",
        "\n",
        "\n",
        "\n",
        "\n",
        "\n",
        "\n",
        "\n",
        "\n",
        "\n",
        "\n",
        "\n",
        "#YOUR CODE ENDS HERE#\n",
        "#THIS IS LINE 30#"
      ],
      "metadata": {
        "id": "Th6pfS0loK7e",
        "colab": {
          "base_uri": "https://localhost:8080/"
        },
        "outputId": "2e877016-88ec-409d-94ec-3920fe2c4dfc"
      },
      "execution_count": null,
      "outputs": [
        {
          "output_type": "stream",
          "name": "stdout",
          "text": [
            "Fitting 1 folds for each of 10 candidates, totalling 10 fits\n",
            "--- Tuning time: 9.0:31.701679944992065 min ---\n",
            "--- Best Accuracy score: 0.8922822946760215 ---\n",
            "--- Best model: SVC() ---\n"
          ]
        }
      ]
    },
    {
      "cell_type": "code",
      "source": [
        "#YOUR CODE STARTS HERE#\n",
        "\n",
        "recall_vec = []\n",
        "# gets the recall score for the validation set \n",
        "configuration_list = grid_search.cv_results_['params']\n",
        "for configuration in configuration_list:\n",
        "  fit = SVC(**configuration).fit(train, training_y)\n",
        "  prediction_y = fit.predict(validation)\n",
        "  recall = (sklearn.metrics.recall_score(validation_y, prediction_y))\n",
        "  recall_vec.append(recall)\n",
        "\n",
        "\n",
        "\n",
        "\n",
        "\n",
        "\n",
        "\n",
        "\n",
        "\n",
        "\n",
        "\n",
        "\n",
        "\n",
        "\n",
        "\n",
        "\n",
        "\n",
        "\n",
        "#YOUR CODE ENDS HERE#\n",
        "#THIS IS LINE 30#"
      ],
      "metadata": {
        "id": "QlDYH1QcoLfv"
      },
      "execution_count": null,
      "outputs": []
    },
    {
      "cell_type": "markdown",
      "metadata": {
        "id": "qBoF_e5reRQR"
      },
      "source": [
        "Explain in **at most 3 sentences** which strategy you adopted.\n",
        "\n",
        "[comment]: <> (#SHOW_CELL#)"
      ]
    },
    {
      "cell_type": "markdown",
      "metadata": {
        "id": "zaY7pZg5QmrS"
      },
      "source": [
        "----------YOUR TEXT STARTS HERE----------\n",
        "\n",
        "1. First of all we find the sentece transformer that allow us to have the best result in term of time restriction and precision score.\n",
        "\n",
        "2. Then altough we tried Random Forest Classifier, we found that SVM due to the feature reduction and the enough given time was the best choice in term of best score we achieve and also there wasn't need to test lot of configuration to find high precision.\n",
        "\n",
        "3. We perform a GridSearch, tuning our model on the whole train set and than measure the performance of the model on the validation set using  the Sklearn library for a smart writing code with the function Predefined Split and the right setup."
      ]
    },
    {
      "cell_type": "markdown",
      "metadata": {
        "id": "9PF4-s-VZ0pD"
      },
      "source": [
        "### 2.1.6\n",
        "Show, in a manner of your choice, the results obtained."
      ]
    },
    {
      "cell_type": "code",
      "execution_count": null,
      "metadata": {
        "id": "g4TbBIC_fDfE",
        "colab": {
          "base_uri": "https://localhost:8080/",
          "height": 599
        },
        "outputId": "59e5700b-bf3a-4c30-c927-f7279ea36e97"
      },
      "outputs": [
        {
          "output_type": "stream",
          "name": "stdout",
          "text": [
            "Top 3 models for Precision score\n"
          ]
        },
        {
          "output_type": "display_data",
          "data": {
            "text/plain": [
              "                           params  mean_test_score    recall\n",
              "0     {'C': 1.0, 'kernel': 'rbf'}         0.892282  0.882449\n",
              "1  {'C': 0.5, 'kernel': 'linear'}         0.891859  0.885306\n",
              "2     {'C': 5.0, 'kernel': 'rbf'}         0.891746  0.877551"
            ],
            "text/html": [
              "\n",
              "  <div id=\"df-8ab278da-23c8-4872-b7dc-2d0cdd1797b8\">\n",
              "    <div class=\"colab-df-container\">\n",
              "      <div>\n",
              "<style scoped>\n",
              "    .dataframe tbody tr th:only-of-type {\n",
              "        vertical-align: middle;\n",
              "    }\n",
              "\n",
              "    .dataframe tbody tr th {\n",
              "        vertical-align: top;\n",
              "    }\n",
              "\n",
              "    .dataframe thead th {\n",
              "        text-align: right;\n",
              "    }\n",
              "</style>\n",
              "<table border=\"1\" class=\"dataframe\">\n",
              "  <thead>\n",
              "    <tr style=\"text-align: right;\">\n",
              "      <th></th>\n",
              "      <th>params</th>\n",
              "      <th>mean_test_score</th>\n",
              "      <th>recall</th>\n",
              "    </tr>\n",
              "  </thead>\n",
              "  <tbody>\n",
              "    <tr>\n",
              "      <th>0</th>\n",
              "      <td>{'C': 1.0, 'kernel': 'rbf'}</td>\n",
              "      <td>0.892282</td>\n",
              "      <td>0.882449</td>\n",
              "    </tr>\n",
              "    <tr>\n",
              "      <th>1</th>\n",
              "      <td>{'C': 0.5, 'kernel': 'linear'}</td>\n",
              "      <td>0.891859</td>\n",
              "      <td>0.885306</td>\n",
              "    </tr>\n",
              "    <tr>\n",
              "      <th>2</th>\n",
              "      <td>{'C': 5.0, 'kernel': 'rbf'}</td>\n",
              "      <td>0.891746</td>\n",
              "      <td>0.877551</td>\n",
              "    </tr>\n",
              "  </tbody>\n",
              "</table>\n",
              "</div>\n",
              "      <button class=\"colab-df-convert\" onclick=\"convertToInteractive('df-8ab278da-23c8-4872-b7dc-2d0cdd1797b8')\"\n",
              "              title=\"Convert this dataframe to an interactive table.\"\n",
              "              style=\"display:none;\">\n",
              "        \n",
              "  <svg xmlns=\"http://www.w3.org/2000/svg\" height=\"24px\"viewBox=\"0 0 24 24\"\n",
              "       width=\"24px\">\n",
              "    <path d=\"M0 0h24v24H0V0z\" fill=\"none\"/>\n",
              "    <path d=\"M18.56 5.44l.94 2.06.94-2.06 2.06-.94-2.06-.94-.94-2.06-.94 2.06-2.06.94zm-11 1L8.5 8.5l.94-2.06 2.06-.94-2.06-.94L8.5 2.5l-.94 2.06-2.06.94zm10 10l.94 2.06.94-2.06 2.06-.94-2.06-.94-.94-2.06-.94 2.06-2.06.94z\"/><path d=\"M17.41 7.96l-1.37-1.37c-.4-.4-.92-.59-1.43-.59-.52 0-1.04.2-1.43.59L10.3 9.45l-7.72 7.72c-.78.78-.78 2.05 0 2.83L4 21.41c.39.39.9.59 1.41.59.51 0 1.02-.2 1.41-.59l7.78-7.78 2.81-2.81c.8-.78.8-2.07 0-2.86zM5.41 20L4 18.59l7.72-7.72 1.47 1.35L5.41 20z\"/>\n",
              "  </svg>\n",
              "      </button>\n",
              "      \n",
              "  <style>\n",
              "    .colab-df-container {\n",
              "      display:flex;\n",
              "      flex-wrap:wrap;\n",
              "      gap: 12px;\n",
              "    }\n",
              "\n",
              "    .colab-df-convert {\n",
              "      background-color: #E8F0FE;\n",
              "      border: none;\n",
              "      border-radius: 50%;\n",
              "      cursor: pointer;\n",
              "      display: none;\n",
              "      fill: #1967D2;\n",
              "      height: 32px;\n",
              "      padding: 0 0 0 0;\n",
              "      width: 32px;\n",
              "    }\n",
              "\n",
              "    .colab-df-convert:hover {\n",
              "      background-color: #E2EBFA;\n",
              "      box-shadow: 0px 1px 2px rgba(60, 64, 67, 0.3), 0px 1px 3px 1px rgba(60, 64, 67, 0.15);\n",
              "      fill: #174EA6;\n",
              "    }\n",
              "\n",
              "    [theme=dark] .colab-df-convert {\n",
              "      background-color: #3B4455;\n",
              "      fill: #D2E3FC;\n",
              "    }\n",
              "\n",
              "    [theme=dark] .colab-df-convert:hover {\n",
              "      background-color: #434B5C;\n",
              "      box-shadow: 0px 1px 3px 1px rgba(0, 0, 0, 0.15);\n",
              "      filter: drop-shadow(0px 1px 2px rgba(0, 0, 0, 0.3));\n",
              "      fill: #FFFFFF;\n",
              "    }\n",
              "  </style>\n",
              "\n",
              "      <script>\n",
              "        const buttonEl =\n",
              "          document.querySelector('#df-8ab278da-23c8-4872-b7dc-2d0cdd1797b8 button.colab-df-convert');\n",
              "        buttonEl.style.display =\n",
              "          google.colab.kernel.accessAllowed ? 'block' : 'none';\n",
              "\n",
              "        async function convertToInteractive(key) {\n",
              "          const element = document.querySelector('#df-8ab278da-23c8-4872-b7dc-2d0cdd1797b8');\n",
              "          const dataTable =\n",
              "            await google.colab.kernel.invokeFunction('convertToInteractive',\n",
              "                                                     [key], {});\n",
              "          if (!dataTable) return;\n",
              "\n",
              "          const docLinkHtml = 'Like what you see? Visit the ' +\n",
              "            '<a target=\"_blank\" href=https://colab.research.google.com/notebooks/data_table.ipynb>data table notebook</a>'\n",
              "            + ' to learn more about interactive tables.';\n",
              "          element.innerHTML = '';\n",
              "          dataTable['output_type'] = 'display_data';\n",
              "          await google.colab.output.renderOutput(dataTable, element);\n",
              "          const docLink = document.createElement('div');\n",
              "          docLink.innerHTML = docLinkHtml;\n",
              "          element.appendChild(docLink);\n",
              "        }\n",
              "      </script>\n",
              "    </div>\n",
              "  </div>\n",
              "  "
            ]
          },
          "metadata": {}
        },
        {
          "output_type": "stream",
          "name": "stdout",
          "text": [
            "\n",
            "\n",
            "\n"
          ]
        },
        {
          "output_type": "display_data",
          "data": {
            "text/plain": [
              "<Figure size 576x396 with 1 Axes>"
            ],
            "image/png": "[encoded data removed]"
          },
          "metadata": {}
        }
      ],
      "source": [
        "#YOUR CODE STARTS HERE#\n",
        "\n",
        "# Store the result in a dataframe and select the columns of interest\n",
        "df = pd.DataFrame(grid_search.cv_results_)\n",
        "df[\"recall\"] = recall_vec\n",
        "\n",
        "# display the top3 configuration\n",
        "top3 = df.sort_values(\"rank_test_score\", axis = 0).head(3)\n",
        "top3 = top3.loc[:, [\"params\", \"mean_test_score\", \"recall\"]]\n",
        "\n",
        "print(\"Top 3 models for Precision score\")\n",
        "display(top3.reset_index(drop=True))\n",
        "\n",
        "print(\"\\n\\n\")\n",
        "\n",
        "# plotting the accuracy score vs the tuning parameters\n",
        "sns.set(font_scale=1.5)\n",
        "sns.pointplot(x = df[\"param_C\"], y = df[\"mean_test_score\"],\n",
        "              hue = df['param_kernel'],\n",
        "              linewidth = 3).set(title = 'Validation Curve Score vs Tuning Parameters')\n",
        "plt.ylabel(\"Precision\", labelpad = 20)\n",
        "plt.show()\n",
        "\n",
        "\n",
        "\n",
        "\n",
        "\n",
        "\n",
        "#YOUR CODE ENDS HERE#\n",
        "#THIS IS LINE 30#"
      ]
    },
    {
      "cell_type": "markdown",
      "metadata": {
        "id": "2XWFTVNtvSPG"
      },
      "source": [
        "Explain the results obtained in **at most 3 sentences**.\n",
        "\n",
        "[comment]: <> (#SHOW_CELL#)"
      ]
    },
    {
      "cell_type": "markdown",
      "metadata": {
        "id": "CSPY3NkCvSPI"
      },
      "source": [
        "----------YOUR TEXT STARTS HERE----------\n",
        "\n",
        "1. The result we achieve are very satisfying, infact we achieve almost $90\\%$ of accuracy with a simple grid and using a powerfull method. \n",
        "\n",
        "2. Also from the results of the SVM tuning on the kernel,  seems that a linear separator gives high and consistent result on text classification.\n",
        "\n",
        "3. Also the recall on the validation set is very high for the top3 models, and slightly better in the linear case, but for the right choice we will focus on higher precision."
      ]
    },
    {
      "cell_type": "markdown",
      "metadata": {
        "id": "lBnOS1InfF4T"
      },
      "source": [
        "### 2.1.7\n",
        "Select the combination of hyper-parameters that achieves the best performance, as defined in step 2.1.\n",
        "\n",
        "Apply the classifier that uses these parameters to obtain the confusion matrix on the test data and print it out."
      ]
    },
    {
      "cell_type": "code",
      "source": [
        "#YOUR CODE STARTS HERE#\n",
        "\n",
        "# -------- SELECT THE BEST CLASSIFIER  ------------- #\n",
        "best_params = grid_search.best_params_\n",
        "\n",
        "svc_fitted = SVC(**best_params).fit(train, training_y)\n",
        "\n",
        "# -------- PREDICT ON THE TEST AND RESULTS ------------- #\n",
        "test = embedding[\"test\"]\n",
        "prediction_y = svc_fitted.predict(test)\n",
        "\n",
        "print(\"The Recall and Precision on the test set are:\\n\")\n",
        "print({\"recall\":    sklearn.metrics.recall_score(test_y, prediction_y), \n",
        "      \"precision\": \tsklearn.metrics.precision_score(test_y, prediction_y)})\n",
        "\n",
        "# Compute the confusion matrix\n",
        "confusion_matrix_SVC = sklearn.metrics.confusion_matrix(test_y, prediction_y)\n",
        "\n",
        "print()\n",
        "print()\n",
        "# display\n",
        "print(\"The confusion matrix for the SVC is:\")\n",
        "display(pd.DataFrame(confusion_matrix_SVC))\n",
        "\n",
        "\n",
        "\n",
        "\n",
        "\n",
        "#YOUR CODE ENDS HERE#\n",
        "#THIS IS LINE 30#"
      ],
      "metadata": {
        "colab": {
          "base_uri": "https://localhost:8080/",
          "height": 216
        },
        "id": "5dP4V43DPXxH",
        "outputId": "6fb505c4-0a9c-42da-db49-69dd391c1d04"
      },
      "execution_count": null,
      "outputs": [
        {
          "output_type": "stream",
          "name": "stdout",
          "text": [
            "The Recall and Precision on the test set are:\n",
            "\n",
            "{'recall': 0.8783625730994152, 'precision': 0.8924539512774807}\n",
            "\n",
            "\n",
            "The confusion matrix for the SVC is:\n"
          ]
        },
        {
          "output_type": "display_data",
          "data": {
            "text/plain": [
              "      0     1\n",
              "0  1403   181\n",
              "1   208  1502"
            ],
            "text/html": [
              "\n",
              "  <div id=\"df-57d65e1e-ea86-4154-bf78-a76550b06476\">\n",
              "    <div class=\"colab-df-container\">\n",
              "      <div>\n",
              "<style scoped>\n",
              "    .dataframe tbody tr th:only-of-type {\n",
              "        vertical-align: middle;\n",
              "    }\n",
              "\n",
              "    .dataframe tbody tr th {\n",
              "        vertical-align: top;\n",
              "    }\n",
              "\n",
              "    .dataframe thead th {\n",
              "        text-align: right;\n",
              "    }\n",
              "</style>\n",
              "<table border=\"1\" class=\"dataframe\">\n",
              "  <thead>\n",
              "    <tr style=\"text-align: right;\">\n",
              "      <th></th>\n",
              "      <th>0</th>\n",
              "      <th>1</th>\n",
              "    </tr>\n",
              "  </thead>\n",
              "  <tbody>\n",
              "    <tr>\n",
              "      <th>0</th>\n",
              "      <td>1403</td>\n",
              "      <td>181</td>\n",
              "    </tr>\n",
              "    <tr>\n",
              "      <th>1</th>\n",
              "      <td>208</td>\n",
              "      <td>1502</td>\n",
              "    </tr>\n",
              "  </tbody>\n",
              "</table>\n",
              "</div>\n",
              "      <button class=\"colab-df-convert\" onclick=\"convertToInteractive('df-57d65e1e-ea86-4154-bf78-a76550b06476')\"\n",
              "              title=\"Convert this dataframe to an interactive table.\"\n",
              "              style=\"display:none;\">\n",
              "        \n",
              "  <svg xmlns=\"http://www.w3.org/2000/svg\" height=\"24px\"viewBox=\"0 0 24 24\"\n",
              "       width=\"24px\">\n",
              "    <path d=\"M0 0h24v24H0V0z\" fill=\"none\"/>\n",
              "    <path d=\"M18.56 5.44l.94 2.06.94-2.06 2.06-.94-2.06-.94-.94-2.06-.94 2.06-2.06.94zm-11 1L8.5 8.5l.94-2.06 2.06-.94-2.06-.94L8.5 2.5l-.94 2.06-2.06.94zm10 10l.94 2.06.94-2.06 2.06-.94-2.06-.94-.94-2.06-.94 2.06-2.06.94z\"/><path d=\"M17.41 7.96l-1.37-1.37c-.4-.4-.92-.59-1.43-.59-.52 0-1.04.2-1.43.59L10.3 9.45l-7.72 7.72c-.78.78-.78 2.05 0 2.83L4 21.41c.39.39.9.59 1.41.59.51 0 1.02-.2 1.41-.59l7.78-7.78 2.81-2.81c.8-.78.8-2.07 0-2.86zM5.41 20L4 18.59l7.72-7.72 1.47 1.35L5.41 20z\"/>\n",
              "  </svg>\n",
              "      </button>\n",
              "      \n",
              "  <style>\n",
              "    .colab-df-container {\n",
              "      display:flex;\n",
              "      flex-wrap:wrap;\n",
              "      gap: 12px;\n",
              "    }\n",
              "\n",
              "    .colab-df-convert {\n",
              "      background-color: #E8F0FE;\n",
              "      border: none;\n",
              "      border-radius: 50%;\n",
              "      cursor: pointer;\n",
              "      display: none;\n",
              "      fill: #1967D2;\n",
              "      height: 32px;\n",
              "      padding: 0 0 0 0;\n",
              "      width: 32px;\n",
              "    }\n",
              "\n",
              "    .colab-df-convert:hover {\n",
              "      background-color: #E2EBFA;\n",
              "      box-shadow: 0px 1px 2px rgba(60, 64, 67, 0.3), 0px 1px 3px 1px rgba(60, 64, 67, 0.15);\n",
              "      fill: #174EA6;\n",
              "    }\n",
              "\n",
              "    [theme=dark] .colab-df-convert {\n",
              "      background-color: #3B4455;\n",
              "      fill: #D2E3FC;\n",
              "    }\n",
              "\n",
              "    [theme=dark] .colab-df-convert:hover {\n",
              "      background-color: #434B5C;\n",
              "      box-shadow: 0px 1px 3px 1px rgba(0, 0, 0, 0.15);\n",
              "      filter: drop-shadow(0px 1px 2px rgba(0, 0, 0, 0.3));\n",
              "      fill: #FFFFFF;\n",
              "    }\n",
              "  </style>\n",
              "\n",
              "      <script>\n",
              "        const buttonEl =\n",
              "          document.querySelector('#df-57d65e1e-ea86-4154-bf78-a76550b06476 button.colab-df-convert');\n",
              "        buttonEl.style.display =\n",
              "          google.colab.kernel.accessAllowed ? 'block' : 'none';\n",
              "\n",
              "        async function convertToInteractive(key) {\n",
              "          const element = document.querySelector('#df-57d65e1e-ea86-4154-bf78-a76550b06476');\n",
              "          const dataTable =\n",
              "            await google.colab.kernel.invokeFunction('convertToInteractive',\n",
              "                                                     [key], {});\n",
              "          if (!dataTable) return;\n",
              "\n",
              "          const docLinkHtml = 'Like what you see? Visit the ' +\n",
              "            '<a target=\"_blank\" href=https://colab.research.google.com/notebooks/data_table.ipynb>data table notebook</a>'\n",
              "            + ' to learn more about interactive tables.';\n",
              "          element.innerHTML = '';\n",
              "          dataTable['output_type'] = 'display_data';\n",
              "          await google.colab.output.renderOutput(dataTable, element);\n",
              "          const docLink = document.createElement('div');\n",
              "          docLink.innerHTML = docLinkHtml;\n",
              "          element.appendChild(docLink);\n",
              "        }\n",
              "      </script>\n",
              "    </div>\n",
              "  </div>\n",
              "  "
            ]
          },
          "metadata": {}
        }
      ]
    },
    {
      "cell_type": "markdown",
      "metadata": {
        "id": "JSWFJqVOaH8n"
      },
      "source": [
        "## Part 2.2"
      ]
    },
    {
      "cell_type": "markdown",
      "metadata": {
        "id": "iPPOwfZxh71A"
      },
      "source": [
        "In this part, you can choose any data transformation you want, as long as each sample, after the transformation, has a size of **exactly 512 values**.\n",
        "\n",
        "Then repeat as many parts of pipeline 2.1 as you deem necessary; use the data defined in step 2.1.1.\n",
        "\n",
        "The goal is to find **ONE** classifier that can receive as input for each document a vector of 512 values and that minimises False Positives on the test set defined in step 1.1.2.\n",
        "\n",
        "The whole process (all Part 2.2) can't take more than **5 minutes**."
      ]
    },
    {
      "cell_type": "markdown",
      "metadata": {
        "id": "l4LAnGIwm2AY"
      },
      "source": [
        "### 2.2.1\n",
        "Prepare the data and the classifier according to the specifications in Part 2.2.\n"
      ]
    },
    {
      "cell_type": "code",
      "execution_count": null,
      "metadata": {
        "id": "PStUReWfcO5M",
        "colab": {
          "base_uri": "https://localhost:8080/"
        },
        "outputId": "48f4288b-ea51-4195-8c0a-99884357091a"
      },
      "outputs": [
        {
          "output_type": "stream",
          "name": "stdout",
          "text": [
            "Fitting 1 folds for each of 27 candidates, totalling 27 fits\n",
            "\n",
            "\n",
            "--- Best score on the validation set: 0.8178053830227743 ---\n",
            "--- Best model: RandomForestClassifier(max_depth=15, min_samples_split=0.01, n_estimators=50,\n",
            "                       n_jobs=-1, random_state=2468) ---\n"
          ]
        }
      ],
      "source": [
        "#YOUR CODE STARTS HERE#\n",
        "\n",
        "# Download the Sentence Trasformer\n",
        "model = SentenceTransformer(\"distiluse-base-multilingual-cased-v1\")\n",
        "\n",
        "# start the timer \n",
        "start_time = time.time()\n",
        "# apply the encoding\n",
        "train_transformed = model.encode(training_x, show_progress_bar=False)\n",
        "validation_transformed = model.encode(validation_x, show_progress_bar=False)\n",
        "test_transformed = model.encode(test_x, show_progress_bar=False)\n",
        "\n",
        "# Define the model\n",
        "clf = RandomForestClassifier()\n",
        "parameters = {\"n_estimators\": [20, 30,50],\n",
        "              \"max_depth\": [None, 15, 25],\n",
        "              \"min_samples_split\": [0.001, 0.005, 0.01],\n",
        "              \"n_jobs\": [-1], \"random_state\": [2468],\n",
        "              }\n",
        "\n",
        "# Reconstruct the original dataset and do grid search crossvalidation as in previous points\n",
        "reconstructed_original_train_x = np.concatenate([train_transformed, validation_transformed])\n",
        "reconstructed_original_train_y = np.concatenate([training_y, validation_y])\n",
        "\n",
        "split_index = np.concatenate([\n",
        "    # The training data.\n",
        "    np.full(fill_value = -1, shape = train_transformed.shape[0], dtype = np.int8),\n",
        "    # The validation data.\n",
        "    np.zeros(validation_transformed.shape[0], dtype = np.int8)\n",
        "])\n",
        "\n",
        "pds = PredefinedSplit(test_fold = split_index)\n",
        "\n",
        "grid_search = GridSearchCV(estimator = clf,\n",
        "                   param_grid = parameters,\n",
        "                   scoring = \"precision\",\n",
        "                   cv = pds, verbose = 1, \n",
        "                    )\n",
        "\n",
        "# Fit with all data\n",
        "grid_search.fit(reconstructed_original_train_x, reconstructed_original_train_y)\n",
        "print(\"\\n\")\n",
        "print(f\"--- Best score on the validation set: {grid_search.best_score_} ---\")\n",
        "print(f\"--- Best model: {grid_search.best_estimator_} ---\")\n",
        "\n",
        "\n",
        "\n",
        "# select the best classifier\n",
        "best_params = grid_search.best_params_\n",
        "clf_fitted = RandomForestClassifier(**best_params).fit(train_transformed, training_y)\n",
        "\n",
        "\n",
        "\n",
        "\n",
        "\n",
        "\n",
        "\n",
        "\n",
        "#YOUR CODE ENDS HERE#\n",
        "#THIS IS LINE 60#"
      ]
    },
    {
      "cell_type": "markdown",
      "metadata": {
        "id": "i5mr4ZIFSW09"
      },
      "source": [
        "Explain in **at most 3 sentences** which strategy you adopted.\n",
        "\n",
        "[comment]: <> (#SHOW_CELL#)"
      ]
    },
    {
      "cell_type": "markdown",
      "metadata": {
        "id": "RuG7uqEZSW0_"
      },
      "source": [
        "----------YOUR TEXT STARTS HERE----------\n",
        "\n",
        "\n",
        "1.   We used a sentence transformer which allows us to obtain vectors of input for the model of shape (n_samples, 512), as required from the task.\n",
        "2.   Then we performed a grid search cross validation trying to get the best possible score, respecting the time requirements optimizing the choice of the hyperparameters range.\n",
        "3. We then take the best model with best performance according to the \"precision\" metric (because we have to minimise False Positives on the test set) and evaluate the performance predicting the test set.\n",
        "\n",
        "\n"
      ]
    },
    {
      "cell_type": "markdown",
      "metadata": {
        "id": "Ar3bt07uTnuc"
      },
      "source": [
        "### 2.2.2\n",
        "Using the classifier, obtain the confusion matrix on the test data.\n",
        "\n",
        "Print the time taken for the whole part 2.2\n",
        "\n",
        "Print out the confusion matrix.\n",
        "\n"
      ]
    },
    {
      "cell_type": "code",
      "execution_count": null,
      "metadata": {
        "id": "f-jrKFU1Tnue",
        "colab": {
          "base_uri": "https://localhost:8080/",
          "height": 181
        },
        "outputId": "298de360-ec37-494f-c694-0c00470dc66a"
      },
      "outputs": [
        {
          "output_type": "stream",
          "name": "stdout",
          "text": [
            "--- Precision score on the test set: 0.8178053830227743 ---\n",
            "The confusion matrix for the RF is:\n"
          ]
        },
        {
          "output_type": "display_data",
          "data": {
            "text/plain": [
              "      0     1\n",
              "0  1252   332\n",
              "1   342  1368"
            ],
            "text/html": [
              "\n",
              "  <div id=\"df-3ed3dbab-497e-4c71-980d-3ea3f68b47d2\">\n",
              "    <div class=\"colab-df-container\">\n",
              "      <div>\n",
              "<style scoped>\n",
              "    .dataframe tbody tr th:only-of-type {\n",
              "        vertical-align: middle;\n",
              "    }\n",
              "\n",
              "    .dataframe tbody tr th {\n",
              "        vertical-align: top;\n",
              "    }\n",
              "\n",
              "    .dataframe thead th {\n",
              "        text-align: right;\n",
              "    }\n",
              "</style>\n",
              "<table border=\"1\" class=\"dataframe\">\n",
              "  <thead>\n",
              "    <tr style=\"text-align: right;\">\n",
              "      <th></th>\n",
              "      <th>0</th>\n",
              "      <th>1</th>\n",
              "    </tr>\n",
              "  </thead>\n",
              "  <tbody>\n",
              "    <tr>\n",
              "      <th>0</th>\n",
              "      <td>1252</td>\n",
              "      <td>332</td>\n",
              "    </tr>\n",
              "    <tr>\n",
              "      <th>1</th>\n",
              "      <td>342</td>\n",
              "      <td>1368</td>\n",
              "    </tr>\n",
              "  </tbody>\n",
              "</table>\n",
              "</div>\n",
              "      <button class=\"colab-df-convert\" onclick=\"convertToInteractive('df-3ed3dbab-497e-4c71-980d-3ea3f68b47d2')\"\n",
              "              title=\"Convert this dataframe to an interactive table.\"\n",
              "              style=\"display:none;\">\n",
              "        \n",
              "  <svg xmlns=\"http://www.w3.org/2000/svg\" height=\"24px\"viewBox=\"0 0 24 24\"\n",
              "       width=\"24px\">\n",
              "    <path d=\"M0 0h24v24H0V0z\" fill=\"none\"/>\n",
              "    <path d=\"M18.56 5.44l.94 2.06.94-2.06 2.06-.94-2.06-.94-.94-2.06-.94 2.06-2.06.94zm-11 1L8.5 8.5l.94-2.06 2.06-.94-2.06-.94L8.5 2.5l-.94 2.06-2.06.94zm10 10l.94 2.06.94-2.06 2.06-.94-2.06-.94-.94-2.06-.94 2.06-2.06.94z\"/><path d=\"M17.41 7.96l-1.37-1.37c-.4-.4-.92-.59-1.43-.59-.52 0-1.04.2-1.43.59L10.3 9.45l-7.72 7.72c-.78.78-.78 2.05 0 2.83L4 21.41c.39.39.9.59 1.41.59.51 0 1.02-.2 1.41-.59l7.78-7.78 2.81-2.81c.8-.78.8-2.07 0-2.86zM5.41 20L4 18.59l7.72-7.72 1.47 1.35L5.41 20z\"/>\n",
              "  </svg>\n",
              "      </button>\n",
              "      \n",
              "  <style>\n",
              "    .colab-df-container {\n",
              "      display:flex;\n",
              "      flex-wrap:wrap;\n",
              "      gap: 12px;\n",
              "    }\n",
              "\n",
              "    .colab-df-convert {\n",
              "      background-color: #E8F0FE;\n",
              "      border: none;\n",
              "      border-radius: 50%;\n",
              "      cursor: pointer;\n",
              "      display: none;\n",
              "      fill: #1967D2;\n",
              "      height: 32px;\n",
              "      padding: 0 0 0 0;\n",
              "      width: 32px;\n",
              "    }\n",
              "\n",
              "    .colab-df-convert:hover {\n",
              "      background-color: #E2EBFA;\n",
              "      box-shadow: 0px 1px 2px rgba(60, 64, 67, 0.3), 0px 1px 3px 1px rgba(60, 64, 67, 0.15);\n",
              "      fill: #174EA6;\n",
              "    }\n",
              "\n",
              "    [theme=dark] .colab-df-convert {\n",
              "      background-color: #3B4455;\n",
              "      fill: #D2E3FC;\n",
              "    }\n",
              "\n",
              "    [theme=dark] .colab-df-convert:hover {\n",
              "      background-color: #434B5C;\n",
              "      box-shadow: 0px 1px 3px 1px rgba(0, 0, 0, 0.15);\n",
              "      filter: drop-shadow(0px 1px 2px rgba(0, 0, 0, 0.3));\n",
              "      fill: #FFFFFF;\n",
              "    }\n",
              "  </style>\n",
              "\n",
              "      <script>\n",
              "        const buttonEl =\n",
              "          document.querySelector('#df-3ed3dbab-497e-4c71-980d-3ea3f68b47d2 button.colab-df-convert');\n",
              "        buttonEl.style.display =\n",
              "          google.colab.kernel.accessAllowed ? 'block' : 'none';\n",
              "\n",
              "        async function convertToInteractive(key) {\n",
              "          const element = document.querySelector('#df-3ed3dbab-497e-4c71-980d-3ea3f68b47d2');\n",
              "          const dataTable =\n",
              "            await google.colab.kernel.invokeFunction('convertToInteractive',\n",
              "                                                     [key], {});\n",
              "          if (!dataTable) return;\n",
              "\n",
              "          const docLinkHtml = 'Like what you see? Visit the ' +\n",
              "            '<a target=\"_blank\" href=https://colab.research.google.com/notebooks/data_table.ipynb>data table notebook</a>'\n",
              "            + ' to learn more about interactive tables.';\n",
              "          element.innerHTML = '';\n",
              "          dataTable['output_type'] = 'display_data';\n",
              "          await google.colab.output.renderOutput(dataTable, element);\n",
              "          const docLink = document.createElement('div');\n",
              "          docLink.innerHTML = docLinkHtml;\n",
              "          element.appendChild(docLink);\n",
              "        }\n",
              "      </script>\n",
              "    </div>\n",
              "  </div>\n",
              "  "
            ]
          },
          "metadata": {}
        },
        {
          "output_type": "stream",
          "name": "stdout",
          "text": [
            "\n",
            "--- Total time: 4.0:17.059141159057617 min ---\n"
          ]
        }
      ],
      "source": [
        "#YOUR CODE STARTS HERE#\n",
        "\n",
        "# predict on the test set \n",
        "prediction_y = clf_fitted.predict(test_transformed)\n",
        "precision_score = sklearn.metrics.precision_score(test_y, prediction_y)\n",
        "print(f\"--- Precision score on the test set: {grid_search.best_score_} ---\")\n",
        "\n",
        "# obtain the confusion matrix\n",
        "confusion_matrix = sklearn.metrics.confusion_matrix(test_y, prediction_y)\n",
        "\n",
        "# Display\n",
        "print(\"The confusion matrix for the RF is:\")\n",
        "display(pd.DataFrame(confusion_matrix))\n",
        "print()\n",
        "# Print total time\n",
        "end_time = time.time()\n",
        "minutes, seconds = divmod(end_time - start_time, 60)\n",
        "print(f\"--- Total time: {minutes}:{seconds} min ---\")\n",
        "\n",
        "#YOUR CODE ENDS HERE#\n",
        "#THIS IS LINE 20#"
      ]
    }
  ],
  "metadata": {
    "colab": {
      "collapsed_sections": [],
      "provenance": [],
      "toc_visible": true
    },
    "kernelspec": {
      "display_name": "Python 3",
      "name": "python3"
    },
    "language_info": {
      "name": "python"
    },
    "accelerator": "GPU",
    "gpuClass": "standard"
  },
  "nbformat": 4,
  "nbformat_minor": 0
}